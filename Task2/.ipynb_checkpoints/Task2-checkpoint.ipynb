{
 "cells": [
  {
   "cell_type": "markdown",
   "id": "bedd5152-e477-4f23-89b8-58ca4125ad56",
   "metadata": {},
   "source": [
    "## Importing necessary library"
   ]
  },
  {
   "cell_type": "code",
   "execution_count": 425,
   "id": "0758927d-b0b1-47a6-8c45-04acc284efde",
   "metadata": {},
   "outputs": [],
   "source": [
    "import numpy as np\n",
    "import pandas as pd\n",
    "import matplotlib.pyplot as plt\n",
    "import seaborn as sns\n",
    "import warnings\n",
    "warnings.filterwarnings(\"ignore\")"
   ]
  },
  {
   "cell_type": "markdown",
   "id": "8bf67662-8f83-4c78-bc1f-814414ba81fc",
   "metadata": {},
   "source": [
    "## Data Analysis"
   ]
  },
  {
   "cell_type": "code",
   "execution_count": 426,
   "id": "d97414d8-20b5-4710-a099-b4d9dcc76277",
   "metadata": {},
   "outputs": [],
   "source": [
    "df=pd.read_csv(\"./IMDb Movies India.csv\",encoding=\"latin-1\")"
   ]
  },
  {
   "cell_type": "code",
   "execution_count": 427,
   "id": "78f6710d-e65c-4841-9b5a-88fb6ff02e21",
   "metadata": {
    "scrolled": true
   },
   "outputs": [
    {
     "data": {
      "text/html": [
       "<div>\n",
       "<style scoped>\n",
       "    .dataframe tbody tr th:only-of-type {\n",
       "        vertical-align: middle;\n",
       "    }\n",
       "\n",
       "    .dataframe tbody tr th {\n",
       "        vertical-align: top;\n",
       "    }\n",
       "\n",
       "    .dataframe thead th {\n",
       "        text-align: right;\n",
       "    }\n",
       "</style>\n",
       "<table border=\"1\" class=\"dataframe\">\n",
       "  <thead>\n",
       "    <tr style=\"text-align: right;\">\n",
       "      <th></th>\n",
       "      <th>Name</th>\n",
       "      <th>Year</th>\n",
       "      <th>Duration</th>\n",
       "      <th>Genre</th>\n",
       "      <th>Rating</th>\n",
       "      <th>Votes</th>\n",
       "      <th>Director</th>\n",
       "      <th>Actor 1</th>\n",
       "      <th>Actor 2</th>\n",
       "      <th>Actor 3</th>\n",
       "    </tr>\n",
       "  </thead>\n",
       "  <tbody>\n",
       "    <tr>\n",
       "      <th>0</th>\n",
       "      <td></td>\n",
       "      <td>NaN</td>\n",
       "      <td>NaN</td>\n",
       "      <td>Drama</td>\n",
       "      <td>NaN</td>\n",
       "      <td>NaN</td>\n",
       "      <td>J.S. Randhawa</td>\n",
       "      <td>Manmauji</td>\n",
       "      <td>Birbal</td>\n",
       "      <td>Rajendra Bhatia</td>\n",
       "    </tr>\n",
       "    <tr>\n",
       "      <th>1</th>\n",
       "      <td>#Gadhvi (He thought he was Gandhi)</td>\n",
       "      <td>(2019)</td>\n",
       "      <td>109 min</td>\n",
       "      <td>Drama</td>\n",
       "      <td>7.0</td>\n",
       "      <td>8</td>\n",
       "      <td>Gaurav Bakshi</td>\n",
       "      <td>Rasika Dugal</td>\n",
       "      <td>Vivek Ghamande</td>\n",
       "      <td>Arvind Jangid</td>\n",
       "    </tr>\n",
       "    <tr>\n",
       "      <th>2</th>\n",
       "      <td>#Homecoming</td>\n",
       "      <td>(2021)</td>\n",
       "      <td>90 min</td>\n",
       "      <td>Drama, Musical</td>\n",
       "      <td>NaN</td>\n",
       "      <td>NaN</td>\n",
       "      <td>Soumyajit Majumdar</td>\n",
       "      <td>Sayani Gupta</td>\n",
       "      <td>Plabita Borthakur</td>\n",
       "      <td>Roy Angana</td>\n",
       "    </tr>\n",
       "    <tr>\n",
       "      <th>3</th>\n",
       "      <td>#Yaaram</td>\n",
       "      <td>(2019)</td>\n",
       "      <td>110 min</td>\n",
       "      <td>Comedy, Romance</td>\n",
       "      <td>4.4</td>\n",
       "      <td>35</td>\n",
       "      <td>Ovais Khan</td>\n",
       "      <td>Prateik</td>\n",
       "      <td>Ishita Raj</td>\n",
       "      <td>Siddhant Kapoor</td>\n",
       "    </tr>\n",
       "    <tr>\n",
       "      <th>4</th>\n",
       "      <td>...And Once Again</td>\n",
       "      <td>(2010)</td>\n",
       "      <td>105 min</td>\n",
       "      <td>Drama</td>\n",
       "      <td>NaN</td>\n",
       "      <td>NaN</td>\n",
       "      <td>Amol Palekar</td>\n",
       "      <td>Rajat Kapoor</td>\n",
       "      <td>Rituparna Sengupta</td>\n",
       "      <td>Antara Mali</td>\n",
       "    </tr>\n",
       "  </tbody>\n",
       "</table>\n",
       "</div>"
      ],
      "text/plain": [
       "                                 Name    Year Duration            Genre  \\\n",
       "0                                         NaN      NaN            Drama   \n",
       "1  #Gadhvi (He thought he was Gandhi)  (2019)  109 min            Drama   \n",
       "2                         #Homecoming  (2021)   90 min   Drama, Musical   \n",
       "3                             #Yaaram  (2019)  110 min  Comedy, Romance   \n",
       "4                   ...And Once Again  (2010)  105 min            Drama   \n",
       "\n",
       "   Rating Votes            Director       Actor 1             Actor 2  \\\n",
       "0     NaN   NaN       J.S. Randhawa      Manmauji              Birbal   \n",
       "1     7.0     8       Gaurav Bakshi  Rasika Dugal      Vivek Ghamande   \n",
       "2     NaN   NaN  Soumyajit Majumdar  Sayani Gupta   Plabita Borthakur   \n",
       "3     4.4    35          Ovais Khan       Prateik          Ishita Raj   \n",
       "4     NaN   NaN        Amol Palekar  Rajat Kapoor  Rituparna Sengupta   \n",
       "\n",
       "           Actor 3  \n",
       "0  Rajendra Bhatia  \n",
       "1    Arvind Jangid  \n",
       "2       Roy Angana  \n",
       "3  Siddhant Kapoor  \n",
       "4      Antara Mali  "
      ]
     },
     "execution_count": 427,
     "metadata": {},
     "output_type": "execute_result"
    }
   ],
   "source": [
    "df.head()"
   ]
  },
  {
   "cell_type": "code",
   "execution_count": 428,
   "id": "8c616f0c-d79e-445d-ae21-5574b2a8a375",
   "metadata": {},
   "outputs": [
    {
     "data": {
      "text/plain": [
       "(15509, 10)"
      ]
     },
     "execution_count": 428,
     "metadata": {},
     "output_type": "execute_result"
    }
   ],
   "source": [
    "df.shape"
   ]
  },
  {
   "cell_type": "code",
   "execution_count": 429,
   "id": "abd2d115-1f93-4d57-92c4-c66d719d4c17",
   "metadata": {},
   "outputs": [
    {
     "name": "stdout",
     "output_type": "stream",
     "text": [
      "<class 'pandas.core.frame.DataFrame'>\n",
      "RangeIndex: 15509 entries, 0 to 15508\n",
      "Data columns (total 10 columns):\n",
      " #   Column    Non-Null Count  Dtype  \n",
      "---  ------    --------------  -----  \n",
      " 0   Name      15509 non-null  object \n",
      " 1   Year      14981 non-null  object \n",
      " 2   Duration  7240 non-null   object \n",
      " 3   Genre     13632 non-null  object \n",
      " 4   Rating    7919 non-null   float64\n",
      " 5   Votes     7920 non-null   object \n",
      " 6   Director  14984 non-null  object \n",
      " 7   Actor 1   13892 non-null  object \n",
      " 8   Actor 2   13125 non-null  object \n",
      " 9   Actor 3   12365 non-null  object \n",
      "dtypes: float64(1), object(9)\n",
      "memory usage: 1.2+ MB\n"
     ]
    }
   ],
   "source": [
    "df.info()"
   ]
  },
  {
   "cell_type": "code",
   "execution_count": 430,
   "id": "fb294fb2-6079-448a-8cfd-d6b47f4b6ec3",
   "metadata": {},
   "outputs": [
    {
     "data": {
      "text/plain": [
       "Genre\n",
       "Action                          1289\n",
       "Action, Adventure                 41\n",
       "Action, Adventure, Biography       1\n",
       "Action, Adventure, Comedy         42\n",
       "Action, Adventure, Crime          19\n",
       "                                ... \n",
       "Thriller, Action                   2\n",
       "Thriller, Musical, Mystery         1\n",
       "Thriller, Mystery                  3\n",
       "Thriller, Mystery, Family          1\n",
       "War                                8\n",
       "Length: 485, dtype: int64"
      ]
     },
     "execution_count": 430,
     "metadata": {},
     "output_type": "execute_result"
    }
   ],
   "source": [
    "df.groupby(\"Genre\").size()"
   ]
  },
  {
   "cell_type": "code",
   "execution_count": 431,
   "id": "afd362f7-fa35-4811-9ece-2e3eef6f3d3f",
   "metadata": {},
   "outputs": [
    {
     "data": {
      "text/plain": [
       "Director\n",
       "A B Arjun          1\n",
       "A. Bhimsingh      18\n",
       "A. Habib           1\n",
       "A. Jagannathan     5\n",
       "A. Karim           1\n",
       "                  ..\n",
       "Zoya Akhtar        7\n",
       "Zubair Khan        2\n",
       "Zubeida            2\n",
       "Zul Vellani        1\n",
       "Zunaid Memon       1\n",
       "Length: 5938, dtype: int64"
      ]
     },
     "execution_count": 431,
     "metadata": {},
     "output_type": "execute_result"
    }
   ],
   "source": [
    "df.groupby(\"Director\").size()"
   ]
  },
  {
   "cell_type": "code",
   "execution_count": 432,
   "id": "b404d707-180a-4339-9e21-7f26638613d1",
   "metadata": {},
   "outputs": [
    {
     "data": {
      "text/plain": [
       "Year\n",
       "(1913)      1\n",
       "(1914)      1\n",
       "(1915)      1\n",
       "(1917)      1\n",
       "(1922)      1\n",
       "         ... \n",
       "(2018)    381\n",
       "(2019)    410\n",
       "(2020)    320\n",
       "(2021)    392\n",
       "(2022)     38\n",
       "Length: 102, dtype: int64"
      ]
     },
     "execution_count": 432,
     "metadata": {},
     "output_type": "execute_result"
    }
   ],
   "source": [
    "df.groupby(\"Year\").size()"
   ]
  },
  {
   "cell_type": "markdown",
   "id": "67cd7c6f-e350-455f-ac45-5614a3c1cf3b",
   "metadata": {},
   "source": [
    "## Data Cleaning"
   ]
  },
  {
   "cell_type": "markdown",
   "id": "f3bef926-0342-4b04-b421-9946e203936a",
   "metadata": {},
   "source": [
    "#### Identifying and handling duplicated values"
   ]
  },
  {
   "cell_type": "code",
   "execution_count": 433,
   "id": "d1ead3db-d034-4f78-9b59-2042e7c37c02",
   "metadata": {},
   "outputs": [
    {
     "data": {
      "text/plain": [
       "1671"
      ]
     },
     "execution_count": 433,
     "metadata": {},
     "output_type": "execute_result"
    }
   ],
   "source": [
    "df[\"Name\"].duplicated().sum()"
   ]
  },
  {
   "cell_type": "markdown",
   "id": "fe7f39cf-6ea8-4962-af79-46f6dd366647",
   "metadata": {},
   "source": [
    "##### we can ignore this because movies can have same name"
   ]
  },
  {
   "cell_type": "code",
   "execution_count": 434,
   "id": "2bfe5edf-398b-48d2-aacb-7fe05df0066c",
   "metadata": {},
   "outputs": [
    {
     "data": {
      "text/plain": [
       "6"
      ]
     },
     "execution_count": 434,
     "metadata": {},
     "output_type": "execute_result"
    }
   ],
   "source": [
    "df.duplicated().sum()"
   ]
  },
  {
   "cell_type": "code",
   "execution_count": 435,
   "id": "dd9e1ffa-e3b0-4799-b35d-e61fa2fb2956",
   "metadata": {},
   "outputs": [],
   "source": [
    "df=df.drop_duplicates()"
   ]
  },
  {
   "cell_type": "markdown",
   "id": "846eb65e-e0df-49c8-a040-028d680ce8f0",
   "metadata": {},
   "source": [
    "#### Taking only necessary features from dataset"
   ]
  },
  {
   "cell_type": "code",
   "execution_count": 436,
   "id": "ecd9b9f2-20d3-4032-a3ab-1b1f78e367b0",
   "metadata": {},
   "outputs": [],
   "source": [
    "df.drop(columns=[\"Name\",\"Duration\",\"Votes\"],axis=1,inplace=True)"
   ]
  },
  {
   "cell_type": "code",
   "execution_count": 437,
   "id": "6a043e72-c345-4cf1-8ab0-83199ee657ee",
   "metadata": {},
   "outputs": [
    {
     "data": {
      "text/html": [
       "<div>\n",
       "<style scoped>\n",
       "    .dataframe tbody tr th:only-of-type {\n",
       "        vertical-align: middle;\n",
       "    }\n",
       "\n",
       "    .dataframe tbody tr th {\n",
       "        vertical-align: top;\n",
       "    }\n",
       "\n",
       "    .dataframe thead th {\n",
       "        text-align: right;\n",
       "    }\n",
       "</style>\n",
       "<table border=\"1\" class=\"dataframe\">\n",
       "  <thead>\n",
       "    <tr style=\"text-align: right;\">\n",
       "      <th></th>\n",
       "      <th>Year</th>\n",
       "      <th>Genre</th>\n",
       "      <th>Rating</th>\n",
       "      <th>Director</th>\n",
       "      <th>Actor 1</th>\n",
       "      <th>Actor 2</th>\n",
       "      <th>Actor 3</th>\n",
       "    </tr>\n",
       "  </thead>\n",
       "  <tbody>\n",
       "    <tr>\n",
       "      <th>0</th>\n",
       "      <td>NaN</td>\n",
       "      <td>Drama</td>\n",
       "      <td>NaN</td>\n",
       "      <td>J.S. Randhawa</td>\n",
       "      <td>Manmauji</td>\n",
       "      <td>Birbal</td>\n",
       "      <td>Rajendra Bhatia</td>\n",
       "    </tr>\n",
       "    <tr>\n",
       "      <th>1</th>\n",
       "      <td>(2019)</td>\n",
       "      <td>Drama</td>\n",
       "      <td>7.0</td>\n",
       "      <td>Gaurav Bakshi</td>\n",
       "      <td>Rasika Dugal</td>\n",
       "      <td>Vivek Ghamande</td>\n",
       "      <td>Arvind Jangid</td>\n",
       "    </tr>\n",
       "    <tr>\n",
       "      <th>2</th>\n",
       "      <td>(2021)</td>\n",
       "      <td>Drama, Musical</td>\n",
       "      <td>NaN</td>\n",
       "      <td>Soumyajit Majumdar</td>\n",
       "      <td>Sayani Gupta</td>\n",
       "      <td>Plabita Borthakur</td>\n",
       "      <td>Roy Angana</td>\n",
       "    </tr>\n",
       "    <tr>\n",
       "      <th>3</th>\n",
       "      <td>(2019)</td>\n",
       "      <td>Comedy, Romance</td>\n",
       "      <td>4.4</td>\n",
       "      <td>Ovais Khan</td>\n",
       "      <td>Prateik</td>\n",
       "      <td>Ishita Raj</td>\n",
       "      <td>Siddhant Kapoor</td>\n",
       "    </tr>\n",
       "    <tr>\n",
       "      <th>4</th>\n",
       "      <td>(2010)</td>\n",
       "      <td>Drama</td>\n",
       "      <td>NaN</td>\n",
       "      <td>Amol Palekar</td>\n",
       "      <td>Rajat Kapoor</td>\n",
       "      <td>Rituparna Sengupta</td>\n",
       "      <td>Antara Mali</td>\n",
       "    </tr>\n",
       "  </tbody>\n",
       "</table>\n",
       "</div>"
      ],
      "text/plain": [
       "     Year            Genre  Rating            Director       Actor 1  \\\n",
       "0     NaN            Drama     NaN       J.S. Randhawa      Manmauji   \n",
       "1  (2019)            Drama     7.0       Gaurav Bakshi  Rasika Dugal   \n",
       "2  (2021)   Drama, Musical     NaN  Soumyajit Majumdar  Sayani Gupta   \n",
       "3  (2019)  Comedy, Romance     4.4          Ovais Khan       Prateik   \n",
       "4  (2010)            Drama     NaN        Amol Palekar  Rajat Kapoor   \n",
       "\n",
       "              Actor 2          Actor 3  \n",
       "0              Birbal  Rajendra Bhatia  \n",
       "1      Vivek Ghamande    Arvind Jangid  \n",
       "2   Plabita Borthakur       Roy Angana  \n",
       "3          Ishita Raj  Siddhant Kapoor  \n",
       "4  Rituparna Sengupta      Antara Mali  "
      ]
     },
     "execution_count": 437,
     "metadata": {},
     "output_type": "execute_result"
    }
   ],
   "source": [
    "df.head()"
   ]
  },
  {
   "cell_type": "markdown",
   "id": "ab723686-9079-4c6f-916e-cf958e65649d",
   "metadata": {},
   "source": [
    "#### Identifying and Handling missing values"
   ]
  },
  {
   "cell_type": "code",
   "execution_count": 438,
   "id": "b9a876da-d133-45c1-89d9-c3f47eb9ecab",
   "metadata": {},
   "outputs": [
    {
     "data": {
      "text/plain": [
       "Year         527\n",
       "Genre       1876\n",
       "Rating      7584\n",
       "Director     524\n",
       "Actor 1     1615\n",
       "Actor 2     2381\n",
       "Actor 3     3140\n",
       "dtype: int64"
      ]
     },
     "execution_count": 438,
     "metadata": {},
     "output_type": "execute_result"
    }
   ],
   "source": [
    "df.isnull().sum()"
   ]
  },
  {
   "cell_type": "markdown",
   "id": "a44b5ebf-24d6-41fa-a120-66e8d4086ba9",
   "metadata": {},
   "source": [
    "##### handling Year column"
   ]
  },
  {
   "cell_type": "code",
   "execution_count": 439,
   "id": "37f72ba1-ae93-468d-bc68-d2459248bc18",
   "metadata": {},
   "outputs": [],
   "source": [
    "df.dropna(subset=[\"Year\"],inplace=True)"
   ]
  },
  {
   "cell_type": "markdown",
   "id": "cb735fb0-a0b1-43b2-8dc7-a4317ecda7aa",
   "metadata": {},
   "source": [
    "##### handling rating column"
   ]
  },
  {
   "cell_type": "code",
   "execution_count": 440,
   "id": "fbbc58fb-1e86-4cd3-9bcd-022bfc6b824c",
   "metadata": {},
   "outputs": [],
   "source": [
    "df[\"Rating\"]=df[\"Rating\"].replace(np.nan,np.mean(df[\"Rating\"]))"
   ]
  },
  {
   "cell_type": "markdown",
   "id": "ee4e96ff-0ff3-4091-a521-f36267f5e222",
   "metadata": {},
   "source": [
    "##### handling director column"
   ]
  },
  {
   "cell_type": "code",
   "execution_count": 441,
   "id": "a1486573-50f5-40a3-b329-7d2c851eaa1c",
   "metadata": {},
   "outputs": [],
   "source": [
    "df.dropna(subset=[\"Director\"],inplace=True)"
   ]
  },
  {
   "cell_type": "markdown",
   "id": "ab0a800e-9edb-40f2-92c9-32a91b8133a7",
   "metadata": {},
   "source": [
    "##### hanndling Actor1 column"
   ]
  },
  {
   "cell_type": "code",
   "execution_count": 442,
   "id": "12352a7c-2d89-485e-9ad1-cf683f112d9c",
   "metadata": {},
   "outputs": [],
   "source": [
    "df.dropna(subset=[\"Actor 1\"],inplace=True)"
   ]
  },
  {
   "cell_type": "markdown",
   "id": "ee46359d-6393-4a30-b174-527ab7cb761e",
   "metadata": {},
   "source": [
    "##### hanndling Actor2 column"
   ]
  },
  {
   "cell_type": "code",
   "execution_count": 443,
   "id": "d6b00ee2-c1ac-48ac-bef6-5c6a7f8fffcb",
   "metadata": {},
   "outputs": [],
   "source": [
    "df.dropna(subset=[\"Actor 2\"],inplace=True)"
   ]
  },
  {
   "cell_type": "markdown",
   "id": "a2b3b0f9-739c-4509-98b7-0f723e835ea2",
   "metadata": {},
   "source": [
    "##### hanndling Actor3 column"
   ]
  },
  {
   "cell_type": "code",
   "execution_count": 444,
   "id": "03feea23-77df-42a8-9fcc-017661e001db",
   "metadata": {},
   "outputs": [],
   "source": [
    "df.dropna(subset=[\"Actor 3\"],inplace=True)"
   ]
  },
  {
   "cell_type": "markdown",
   "id": "40d5a00a-2fdd-4972-9274-c595f0a0996a",
   "metadata": {},
   "source": [
    "##### handling Genre column"
   ]
  },
  {
   "cell_type": "code",
   "execution_count": 445,
   "id": "3e49e3e8-dbae-4207-aa94-79b3b5d38185",
   "metadata": {},
   "outputs": [],
   "source": [
    "## choosing genre by Director and Actor 1\n",
    "df['Genre'] = df.groupby(['Director','Actor 1'])['Genre'].transform(lambda x: x.fillna(x.mode()[0] if not x.mode().empty else np.nan))"
   ]
  },
  {
   "cell_type": "code",
   "execution_count": 446,
   "id": "4e1c35da-34e7-40ca-b61a-9e3bcbff68c8",
   "metadata": {},
   "outputs": [],
   "source": [
    "## choosing genre by Director\n",
    "df['Genre'] = df.groupby('Director')['Genre'].transform(lambda x: x.fillna(x.mode()[0] if not x.mode().empty else np.nan))"
   ]
  },
  {
   "cell_type": "code",
   "execution_count": 447,
   "id": "616a8d23-d140-472f-9088-7ec737d0c052",
   "metadata": {},
   "outputs": [],
   "source": [
    "## choosing genre by Actor 1\n",
    "df['Genre'] = df.groupby('Actor 1')['Genre'].transform(lambda x: x.fillna(x.mode()[0] if not x.mode().empty else np.nan))"
   ]
  },
  {
   "cell_type": "code",
   "execution_count": 448,
   "id": "9b855195-d19c-45b7-9d19-b5fc6a47bf9b",
   "metadata": {},
   "outputs": [],
   "source": [
    "df.dropna(subset=[\"Genre\"],inplace=True)"
   ]
  },
  {
   "cell_type": "code",
   "execution_count": 449,
   "id": "8e3f2c92-72d6-4747-8eef-0c26f4b84d4e",
   "metadata": {},
   "outputs": [
    {
     "data": {
      "text/plain": [
       "Year        0\n",
       "Genre       0\n",
       "Rating      0\n",
       "Director    0\n",
       "Actor 1     0\n",
       "Actor 2     0\n",
       "Actor 3     0\n",
       "dtype: int64"
      ]
     },
     "execution_count": 449,
     "metadata": {},
     "output_type": "execute_result"
    }
   ],
   "source": [
    "df.isnull().sum()"
   ]
  },
  {
   "cell_type": "code",
   "execution_count": 450,
   "id": "f284e4db-55da-4ce8-a63a-5d5bca8e145a",
   "metadata": {},
   "outputs": [
    {
     "data": {
      "text/plain": [
       "(11994, 7)"
      ]
     },
     "execution_count": 450,
     "metadata": {},
     "output_type": "execute_result"
    }
   ],
   "source": [
    "df.shape"
   ]
  },
  {
   "cell_type": "markdown",
   "id": "d8f6ce31-5d5d-4d94-ba83-135d1090d547",
   "metadata": {},
   "source": [
    "## Data Visualisation"
   ]
  },
  {
   "cell_type": "code",
   "execution_count": 451,
   "id": "fdb91400-ff83-4fcd-a365-9e9546536fcb",
   "metadata": {},
   "outputs": [],
   "source": [
    "df[\"Year\"] = df.loc[:,\"Year\"].str.extract(r\"(\\d{4})\")"
   ]
  },
  {
   "cell_type": "code",
   "execution_count": 452,
   "id": "8ff625ef-2245-473f-8c22-410ba0d72adf",
   "metadata": {},
   "outputs": [],
   "source": [
    "df[\"Year\"]=df[\"Year\"].astype(int)"
   ]
  },
  {
   "cell_type": "code",
   "execution_count": 453,
   "id": "e04f1e86-ac9b-41ab-9340-81fbe3fe15ce",
   "metadata": {},
   "outputs": [],
   "source": [
    "df = df.sort_values(by='Year')"
   ]
  },
  {
   "cell_type": "code",
   "execution_count": 454,
   "id": "9705ab22-625b-4bb0-926f-7e85b5b72437",
   "metadata": {},
   "outputs": [
    {
     "data": {
      "text/html": [
       "<div>\n",
       "<style scoped>\n",
       "    .dataframe tbody tr th:only-of-type {\n",
       "        vertical-align: middle;\n",
       "    }\n",
       "\n",
       "    .dataframe tbody tr th {\n",
       "        vertical-align: top;\n",
       "    }\n",
       "\n",
       "    .dataframe thead th {\n",
       "        text-align: right;\n",
       "    }\n",
       "</style>\n",
       "<table border=\"1\" class=\"dataframe\">\n",
       "  <thead>\n",
       "    <tr style=\"text-align: right;\">\n",
       "      <th></th>\n",
       "      <th>Year</th>\n",
       "      <th>Genre</th>\n",
       "      <th>Rating</th>\n",
       "      <th>Director</th>\n",
       "      <th>Actor 1</th>\n",
       "      <th>Actor 2</th>\n",
       "      <th>Actor 3</th>\n",
       "    </tr>\n",
       "  </thead>\n",
       "  <tbody>\n",
       "    <tr>\n",
       "      <th>8146</th>\n",
       "      <td>1917</td>\n",
       "      <td>Adventure, Drama, Fantasy</td>\n",
       "      <td>6.700000</td>\n",
       "      <td>Dhundiraj Govind Phalke</td>\n",
       "      <td>Anna Salunke</td>\n",
       "      <td>Ganpat G. Shinde</td>\n",
       "      <td>D.D. Dabke</td>\n",
       "    </tr>\n",
       "    <tr>\n",
       "      <th>7253</th>\n",
       "      <td>1928</td>\n",
       "      <td>Fantasy, History</td>\n",
       "      <td>5.841621</td>\n",
       "      <td>Anand Prasad Kapoor</td>\n",
       "      <td>Mehar Banu</td>\n",
       "      <td>Lobo</td>\n",
       "      <td>Ata Mohammed</td>\n",
       "    </tr>\n",
       "    <tr>\n",
       "      <th>7336</th>\n",
       "      <td>1928</td>\n",
       "      <td>Action, Drama, History</td>\n",
       "      <td>5.841621</td>\n",
       "      <td>Vishnupant Govind Damle</td>\n",
       "      <td>Sheikh Fattelal</td>\n",
       "      <td>Keshavrao Dhaiber</td>\n",
       "      <td>Kamaladevi</td>\n",
       "    </tr>\n",
       "    <tr>\n",
       "      <th>11659</th>\n",
       "      <td>1930</td>\n",
       "      <td>Action, Drama</td>\n",
       "      <td>5.841621</td>\n",
       "      <td>K.P. Bhave</td>\n",
       "      <td>Eddie Billimoria</td>\n",
       "      <td>Gohar</td>\n",
       "      <td>Mazhar Khan</td>\n",
       "    </tr>\n",
       "    <tr>\n",
       "      <th>3500</th>\n",
       "      <td>1931</td>\n",
       "      <td>Action</td>\n",
       "      <td>5.841621</td>\n",
       "      <td>Pesi Karani</td>\n",
       "      <td>Master Vithal</td>\n",
       "      <td>Jillo</td>\n",
       "      <td>Khalil</td>\n",
       "    </tr>\n",
       "  </tbody>\n",
       "</table>\n",
       "</div>"
      ],
      "text/plain": [
       "       Year                      Genre    Rating                 Director  \\\n",
       "8146   1917  Adventure, Drama, Fantasy  6.700000  Dhundiraj Govind Phalke   \n",
       "7253   1928           Fantasy, History  5.841621      Anand Prasad Kapoor   \n",
       "7336   1928     Action, Drama, History  5.841621  Vishnupant Govind Damle   \n",
       "11659  1930              Action, Drama  5.841621               K.P. Bhave   \n",
       "3500   1931                     Action  5.841621              Pesi Karani   \n",
       "\n",
       "                Actor 1            Actor 2       Actor 3  \n",
       "8146       Anna Salunke   Ganpat G. Shinde    D.D. Dabke  \n",
       "7253         Mehar Banu               Lobo  Ata Mohammed  \n",
       "7336    Sheikh Fattelal  Keshavrao Dhaiber    Kamaladevi  \n",
       "11659  Eddie Billimoria              Gohar   Mazhar Khan  \n",
       "3500      Master Vithal              Jillo        Khalil  "
      ]
     },
     "execution_count": 454,
     "metadata": {},
     "output_type": "execute_result"
    }
   ],
   "source": [
    "df.head()"
   ]
  },
  {
   "cell_type": "code",
   "execution_count": 455,
   "id": "82808603-25f0-4ba9-bb4a-867ad3fef9f0",
   "metadata": {},
   "outputs": [
    {
     "data": {
      "text/plain": [
       "Genre\n",
       "Drama                            2487\n",
       "Action                           1116\n",
       "Drama, Romance                    521\n",
       "Romance                           515\n",
       "Drama, Family                     466\n",
       "                                 ... \n",
       "Adventure, Biography, History       1\n",
       "Action, Adventure, History          1\n",
       "Fantasy, Horror, Romance            1\n",
       "Fantasy, Musical, Drama             1\n",
       "Horror, Musical, Thriller           1\n",
       "Name: count, Length: 448, dtype: int64"
      ]
     },
     "execution_count": 455,
     "metadata": {},
     "output_type": "execute_result"
    }
   ],
   "source": [
    "df['Genre'].value_counts()"
   ]
  },
  {
   "cell_type": "code",
   "execution_count": 456,
   "id": "32de124c-8aca-4642-81ef-50b5f298aa44",
   "metadata": {},
   "outputs": [
    {
     "data": {
      "image/png": "[encoded data removed]",
      "text/plain": [
       "<Figure size 640x480 with 1 Axes>"
      ]
     },
     "metadata": {},
     "output_type": "display_data"
    }
   ],
   "source": [
    "plt.pie(df[\"Genre\"].value_counts(),labels=df[\"Genre\"].value_counts().index, autopct='%1.1f%%',startangle=90, pctdistance=0.85)\n",
    "plt.title(\"Genre v/s their Frequency\")\n",
    "plt.show()"
   ]
  },
  {
   "cell_type": "markdown",
   "id": "fba36e25-c88e-4863-8da2-98a1f31eadad",
   "metadata": {},
   "source": [
    "##### considering only primary genre : taking first genre as primary genre"
   ]
  },
  {
   "cell_type": "code",
   "execution_count": 457,
   "id": "05412782-2a0b-42c8-b49c-5ec2180d67c6",
   "metadata": {},
   "outputs": [],
   "source": [
    "df[\"Main_genre\"]=df.loc[:,\"Genre\"].str.extract(\"(^\\w{1,11})\")"
   ]
  },
  {
   "cell_type": "code",
   "execution_count": 458,
   "id": "feeaee11-9dea-4617-bd63-5ae95fddd48a",
   "metadata": {},
   "outputs": [
    {
     "data": {
      "text/html": [
       "<div>\n",
       "<style scoped>\n",
       "    .dataframe tbody tr th:only-of-type {\n",
       "        vertical-align: middle;\n",
       "    }\n",
       "\n",
       "    .dataframe tbody tr th {\n",
       "        vertical-align: top;\n",
       "    }\n",
       "\n",
       "    .dataframe thead th {\n",
       "        text-align: right;\n",
       "    }\n",
       "</style>\n",
       "<table border=\"1\" class=\"dataframe\">\n",
       "  <thead>\n",
       "    <tr style=\"text-align: right;\">\n",
       "      <th></th>\n",
       "      <th>Year</th>\n",
       "      <th>Genre</th>\n",
       "      <th>Rating</th>\n",
       "      <th>Director</th>\n",
       "      <th>Actor 1</th>\n",
       "      <th>Actor 2</th>\n",
       "      <th>Actor 3</th>\n",
       "      <th>Main_genre</th>\n",
       "    </tr>\n",
       "  </thead>\n",
       "  <tbody>\n",
       "    <tr>\n",
       "      <th>8146</th>\n",
       "      <td>1917</td>\n",
       "      <td>Adventure, Drama, Fantasy</td>\n",
       "      <td>6.700000</td>\n",
       "      <td>Dhundiraj Govind Phalke</td>\n",
       "      <td>Anna Salunke</td>\n",
       "      <td>Ganpat G. Shinde</td>\n",
       "      <td>D.D. Dabke</td>\n",
       "      <td>Adventure</td>\n",
       "    </tr>\n",
       "    <tr>\n",
       "      <th>7253</th>\n",
       "      <td>1928</td>\n",
       "      <td>Fantasy, History</td>\n",
       "      <td>5.841621</td>\n",
       "      <td>Anand Prasad Kapoor</td>\n",
       "      <td>Mehar Banu</td>\n",
       "      <td>Lobo</td>\n",
       "      <td>Ata Mohammed</td>\n",
       "      <td>Fantasy</td>\n",
       "    </tr>\n",
       "    <tr>\n",
       "      <th>7336</th>\n",
       "      <td>1928</td>\n",
       "      <td>Action, Drama, History</td>\n",
       "      <td>5.841621</td>\n",
       "      <td>Vishnupant Govind Damle</td>\n",
       "      <td>Sheikh Fattelal</td>\n",
       "      <td>Keshavrao Dhaiber</td>\n",
       "      <td>Kamaladevi</td>\n",
       "      <td>Action</td>\n",
       "    </tr>\n",
       "    <tr>\n",
       "      <th>11659</th>\n",
       "      <td>1930</td>\n",
       "      <td>Action, Drama</td>\n",
       "      <td>5.841621</td>\n",
       "      <td>K.P. Bhave</td>\n",
       "      <td>Eddie Billimoria</td>\n",
       "      <td>Gohar</td>\n",
       "      <td>Mazhar Khan</td>\n",
       "      <td>Action</td>\n",
       "    </tr>\n",
       "    <tr>\n",
       "      <th>3500</th>\n",
       "      <td>1931</td>\n",
       "      <td>Action</td>\n",
       "      <td>5.841621</td>\n",
       "      <td>Pesi Karani</td>\n",
       "      <td>Master Vithal</td>\n",
       "      <td>Jillo</td>\n",
       "      <td>Khalil</td>\n",
       "      <td>Action</td>\n",
       "    </tr>\n",
       "  </tbody>\n",
       "</table>\n",
       "</div>"
      ],
      "text/plain": [
       "       Year                      Genre    Rating                 Director  \\\n",
       "8146   1917  Adventure, Drama, Fantasy  6.700000  Dhundiraj Govind Phalke   \n",
       "7253   1928           Fantasy, History  5.841621      Anand Prasad Kapoor   \n",
       "7336   1928     Action, Drama, History  5.841621  Vishnupant Govind Damle   \n",
       "11659  1930              Action, Drama  5.841621               K.P. Bhave   \n",
       "3500   1931                     Action  5.841621              Pesi Karani   \n",
       "\n",
       "                Actor 1            Actor 2       Actor 3 Main_genre  \n",
       "8146       Anna Salunke   Ganpat G. Shinde    D.D. Dabke  Adventure  \n",
       "7253         Mehar Banu               Lobo  Ata Mohammed    Fantasy  \n",
       "7336    Sheikh Fattelal  Keshavrao Dhaiber    Kamaladevi     Action  \n",
       "11659  Eddie Billimoria              Gohar   Mazhar Khan     Action  \n",
       "3500      Master Vithal              Jillo        Khalil     Action  "
      ]
     },
     "execution_count": 458,
     "metadata": {},
     "output_type": "execute_result"
    }
   ],
   "source": [
    "df.head()"
   ]
  },
  {
   "cell_type": "code",
   "execution_count": 459,
   "id": "9851fdcc-14d9-4064-9726-d0cf9bb7f510",
   "metadata": {},
   "outputs": [
    {
     "data": {
      "text/plain": [
       "Main_genre\n",
       "Drama          4244\n",
       "Action         3322\n",
       "Comedy         1455\n",
       "Romance         566\n",
       "Crime           448\n",
       "Thriller        414\n",
       "Horror          310\n",
       "Adventure       266\n",
       "Fantasy         258\n",
       "Musical         145\n",
       "Biography       129\n",
       "Mystery         129\n",
       "Family          128\n",
       "Documentary      83\n",
       "Animation        54\n",
       "History          19\n",
       "Sci               7\n",
       "Music             7\n",
       "Sport             5\n",
       "War               4\n",
       "Reality           1\n",
       "Name: count, dtype: int64"
      ]
     },
     "execution_count": 459,
     "metadata": {},
     "output_type": "execute_result"
    }
   ],
   "source": [
    "df[\"Main_genre\"].value_counts()"
   ]
  },
  {
   "cell_type": "code",
   "execution_count": 460,
   "id": "55afe7d7-046d-4d35-8220-fffc170ef061",
   "metadata": {},
   "outputs": [
    {
     "data": {
      "image/png": "[encoded data removed]",
      "text/plain": [
       "<Figure size 640x480 with 1 Axes>"
      ]
     },
     "metadata": {},
     "output_type": "display_data"
    }
   ],
   "source": [
    "plt.pie(df[\"Main_genre\"].value_counts(),labels=df[\"Main_genre\"].value_counts().index, autopct='%1.1f%%',startangle=90, pctdistance=0.85)\n",
    "plt.title(\"Main Genre v/s their Frequency\")\n",
    "plt.show()"
   ]
  },
  {
   "cell_type": "markdown",
   "id": "b753f19d-09f3-4a06-bbef-9abd6d7a1249",
   "metadata": {},
   "source": [
    "##### Plotting 10 most frequent director with their average mean ratings"
   ]
  },
  {
   "cell_type": "code",
   "execution_count": 461,
   "id": "8cbff22a-f7a7-4a42-9c8a-ac0662c23999",
   "metadata": {},
   "outputs": [],
   "source": [
    "df[\"mean_ratings_director\"]=df.groupby([\"Director\"])[\"Rating\"].transform(\"mean\")"
   ]
  },
  {
   "cell_type": "code",
   "execution_count": 462,
   "id": "ec93f982-9d04-414f-a710-621f95e035f7",
   "metadata": {
    "scrolled": true
   },
   "outputs": [],
   "source": [
    "temp=df.groupby(\"Director\").agg({\"mean_ratings_director\":\"max\"})"
   ]
  },
  {
   "cell_type": "code",
   "execution_count": 463,
   "id": "72a0b479-b562-4bd9-9697-55a00ee7f7b5",
   "metadata": {},
   "outputs": [
    {
     "data": {
      "text/html": [
       "<div>\n",
       "<style scoped>\n",
       "    .dataframe tbody tr th:only-of-type {\n",
       "        vertical-align: middle;\n",
       "    }\n",
       "\n",
       "    .dataframe tbody tr th {\n",
       "        vertical-align: top;\n",
       "    }\n",
       "\n",
       "    .dataframe thead th {\n",
       "        text-align: right;\n",
       "    }\n",
       "</style>\n",
       "<table border=\"1\" class=\"dataframe\">\n",
       "  <thead>\n",
       "    <tr style=\"text-align: right;\">\n",
       "      <th></th>\n",
       "      <th>mean_ratings_director</th>\n",
       "    </tr>\n",
       "    <tr>\n",
       "      <th>Director</th>\n",
       "      <th></th>\n",
       "    </tr>\n",
       "  </thead>\n",
       "  <tbody>\n",
       "    <tr>\n",
       "      <th>A B Arjun</th>\n",
       "      <td>5.841621</td>\n",
       "    </tr>\n",
       "    <tr>\n",
       "      <th>A. Bhimsingh</th>\n",
       "      <td>6.724535</td>\n",
       "    </tr>\n",
       "    <tr>\n",
       "      <th>A. Habib</th>\n",
       "      <td>5.841621</td>\n",
       "    </tr>\n",
       "    <tr>\n",
       "      <th>A. Jagannathan</th>\n",
       "      <td>5.835405</td>\n",
       "    </tr>\n",
       "    <tr>\n",
       "      <th>A. Karim</th>\n",
       "      <td>5.841621</td>\n",
       "    </tr>\n",
       "    <tr>\n",
       "      <th>...</th>\n",
       "      <td>...</td>\n",
       "    </tr>\n",
       "    <tr>\n",
       "      <th>Ziaullah Khan</th>\n",
       "      <td>5.720811</td>\n",
       "    </tr>\n",
       "    <tr>\n",
       "      <th>Zoya Akhtar</th>\n",
       "      <td>6.800000</td>\n",
       "    </tr>\n",
       "    <tr>\n",
       "      <th>Zubair Khan</th>\n",
       "      <td>6.900000</td>\n",
       "    </tr>\n",
       "    <tr>\n",
       "      <th>Zul Vellani</th>\n",
       "      <td>5.841621</td>\n",
       "    </tr>\n",
       "    <tr>\n",
       "      <th>Zunaid Memon</th>\n",
       "      <td>6.400000</td>\n",
       "    </tr>\n",
       "  </tbody>\n",
       "</table>\n",
       "<p>4658 rows × 1 columns</p>\n",
       "</div>"
      ],
      "text/plain": [
       "                mean_ratings_director\n",
       "Director                             \n",
       "A B Arjun                    5.841621\n",
       "A. Bhimsingh                 6.724535\n",
       "A. Habib                     5.841621\n",
       "A. Jagannathan               5.835405\n",
       "A. Karim                     5.841621\n",
       "...                               ...\n",
       "Ziaullah Khan                5.720811\n",
       "Zoya Akhtar                  6.800000\n",
       "Zubair Khan                  6.900000\n",
       "Zul Vellani                  5.841621\n",
       "Zunaid Memon                 6.400000\n",
       "\n",
       "[4658 rows x 1 columns]"
      ]
     },
     "execution_count": 463,
     "metadata": {},
     "output_type": "execute_result"
    }
   ],
   "source": [
    "temp"
   ]
  },
  {
   "cell_type": "code",
   "execution_count": 464,
   "id": "cf051121-8de5-45b9-84ef-015549bc01e7",
   "metadata": {},
   "outputs": [],
   "source": [
    "X=df[\"Director\"].value_counts().index[:10]"
   ]
  },
  {
   "cell_type": "code",
   "execution_count": 465,
   "id": "93ec45d9-c7e5-4db8-a88c-3d19b53b258f",
   "metadata": {},
   "outputs": [],
   "source": [
    "Y=[]\n",
    "for i in X:\n",
    "    for j in range(len(temp.index)):\n",
    "        if i==temp.index[j]:\n",
    "            Y.append(temp[\"mean_ratings_director\"][j])"
   ]
  },
  {
   "cell_type": "code",
   "execution_count": 466,
   "id": "fc6d77b5-2551-4b37-b025-b372571f8526",
   "metadata": {},
   "outputs": [
    {
     "data": {
      "image/png": "[encoded data removed]",
      "text/plain": [
       "<Figure size 640x480 with 1 Axes>"
      ]
     },
     "metadata": {},
     "output_type": "display_data"
    }
   ],
   "source": [
    "plt.bar(X,Y)\n",
    "plt.title(\"10 most frequent director v/s their mean rating\")\n",
    "plt.xlabel(\"Director\")\n",
    "plt.ylabel(\"Rating\")\n",
    "plt.show()"
   ]
  },
  {
   "cell_type": "markdown",
   "id": "2554094d-4e17-474e-b4fa-26a7a0cfd6ea",
   "metadata": {},
   "source": [
    "## Ml Model"
   ]
  },
  {
   "cell_type": "markdown",
   "id": "bfdcd97e-74fb-4dd2-8cc7-217d780cb810",
   "metadata": {},
   "source": [
    "#### Data Transformation"
   ]
  },
  {
   "cell_type": "code",
   "execution_count": 467,
   "id": "4a043db9-0b80-4926-b85a-44f28e5cb7a6",
   "metadata": {},
   "outputs": [
    {
     "data": {
      "text/plain": [
       "Index(['Year', 'Genre', 'Rating', 'Director', 'Actor 1', 'Actor 2', 'Actor 3',\n",
       "       'Main_genre', 'mean_ratings_director'],\n",
       "      dtype='object')"
      ]
     },
     "execution_count": 467,
     "metadata": {},
     "output_type": "execute_result"
    }
   ],
   "source": [
    "df.columns"
   ]
  },
  {
   "cell_type": "code",
   "execution_count": 468,
   "id": "e78fc1d0-943f-492f-bb0f-e25013b9bda7",
   "metadata": {},
   "outputs": [],
   "source": [
    "df.drop(columns=[\"Main_genre\",\"mean_ratings_director\"],inplace=True)"
   ]
  },
  {
   "cell_type": "markdown",
   "id": "21cfe275-94fc-4579-815a-df684122dde2",
   "metadata": {},
   "source": [
    "#### Converting categorical data to numerical data"
   ]
  },
  {
   "cell_type": "code",
   "execution_count": 469,
   "id": "bd3c748c-6ab6-4e6f-9a35-9740b065e496",
   "metadata": {},
   "outputs": [],
   "source": [
    "from sklearn.preprocessing import LabelEncoder"
   ]
  },
  {
   "cell_type": "code",
   "execution_count": 470,
   "id": "4b02a64f-d29d-4e49-96b0-ef5d20a9f3cb",
   "metadata": {},
   "outputs": [],
   "source": [
    "encoder=LabelEncoder()"
   ]
  },
  {
   "cell_type": "code",
   "execution_count": 471,
   "id": "92755d80-59b0-48a9-a2bb-e2cda0fc0feb",
   "metadata": {},
   "outputs": [],
   "source": [
    "df[\"Genre\"]=encoder.fit_transform(df[\"Genre\"])\n",
    "df[\"Director\"]=encoder.fit_transform(df[\"Director\"])\n",
    "df[\"Actor 1\"]=encoder.fit_transform(df[\"Actor 1\"])\n",
    "df[\"Actor 2\"]=encoder.fit_transform(df[\"Actor 2\"])\n",
    "df[\"Actor 3\"]=encoder.fit_transform(df[\"Actor 3\"])"
   ]
  },
  {
   "cell_type": "code",
   "execution_count": 472,
   "id": "7e0242c8-c65f-4352-a61f-a7b71d19bdcb",
   "metadata": {},
   "outputs": [
    {
     "data": {
      "text/html": [
       "<div>\n",
       "<style scoped>\n",
       "    .dataframe tbody tr th:only-of-type {\n",
       "        vertical-align: middle;\n",
       "    }\n",
       "\n",
       "    .dataframe tbody tr th {\n",
       "        vertical-align: top;\n",
       "    }\n",
       "\n",
       "    .dataframe thead th {\n",
       "        text-align: right;\n",
       "    }\n",
       "</style>\n",
       "<table border=\"1\" class=\"dataframe\">\n",
       "  <thead>\n",
       "    <tr style=\"text-align: right;\">\n",
       "      <th></th>\n",
       "      <th>Year</th>\n",
       "      <th>Genre</th>\n",
       "      <th>Rating</th>\n",
       "      <th>Director</th>\n",
       "      <th>Actor 1</th>\n",
       "      <th>Actor 2</th>\n",
       "      <th>Actor 3</th>\n",
       "    </tr>\n",
       "  </thead>\n",
       "  <tbody>\n",
       "    <tr>\n",
       "      <th>8146</th>\n",
       "      <td>1917</td>\n",
       "      <td>109</td>\n",
       "      <td>6.700000</td>\n",
       "      <td>1058</td>\n",
       "      <td>393</td>\n",
       "      <td>1113</td>\n",
       "      <td>877</td>\n",
       "    </tr>\n",
       "    <tr>\n",
       "      <th>7253</th>\n",
       "      <td>1928</td>\n",
       "      <td>360</td>\n",
       "      <td>5.841621</td>\n",
       "      <td>335</td>\n",
       "      <td>1978</td>\n",
       "      <td>1844</td>\n",
       "      <td>586</td>\n",
       "    </tr>\n",
       "    <tr>\n",
       "      <th>7336</th>\n",
       "      <td>1928</td>\n",
       "      <td>45</td>\n",
       "      <td>5.841621</td>\n",
       "      <td>4565</td>\n",
       "      <td>3206</td>\n",
       "      <td>1670</td>\n",
       "      <td>1643</td>\n",
       "    </tr>\n",
       "    <tr>\n",
       "      <th>11659</th>\n",
       "      <td>1930</td>\n",
       "      <td>39</td>\n",
       "      <td>5.841621</td>\n",
       "      <td>1745</td>\n",
       "      <td>1058</td>\n",
       "      <td>1164</td>\n",
       "      <td>2137</td>\n",
       "    </tr>\n",
       "    <tr>\n",
       "      <th>3500</th>\n",
       "      <td>1931</td>\n",
       "      <td>0</td>\n",
       "      <td>5.841621</td>\n",
       "      <td>2711</td>\n",
       "      <td>1944</td>\n",
       "      <td>1478</td>\n",
       "      <td>1750</td>\n",
       "    </tr>\n",
       "  </tbody>\n",
       "</table>\n",
       "</div>"
      ],
      "text/plain": [
       "       Year  Genre    Rating  Director  Actor 1  Actor 2  Actor 3\n",
       "8146   1917    109  6.700000      1058      393     1113      877\n",
       "7253   1928    360  5.841621       335     1978     1844      586\n",
       "7336   1928     45  5.841621      4565     3206     1670     1643\n",
       "11659  1930     39  5.841621      1745     1058     1164     2137\n",
       "3500   1931      0  5.841621      2711     1944     1478     1750"
      ]
     },
     "execution_count": 472,
     "metadata": {},
     "output_type": "execute_result"
    }
   ],
   "source": [
    "df.head()"
   ]
  },
  {
   "cell_type": "markdown",
   "id": "9d5a8f96-50e9-4a94-af50-b3400e8d8278",
   "metadata": {},
   "source": [
    "#### Scaling Dataset"
   ]
  },
  {
   "cell_type": "code",
   "execution_count": 473,
   "id": "536fe715-3d54-4816-aaf5-eabb591fbb67",
   "metadata": {},
   "outputs": [],
   "source": [
    "from sklearn.preprocessing import RobustScaler"
   ]
  },
  {
   "cell_type": "code",
   "execution_count": 474,
   "id": "fa19467b-b02d-41ae-8fc6-6a8e1fb7f52e",
   "metadata": {},
   "outputs": [],
   "source": [
    "scaler=RobustScaler()"
   ]
  },
  {
   "cell_type": "code",
   "execution_count": 475,
   "id": "9c59a9a2-d9b7-4b2d-8d00-214ab89cffdb",
   "metadata": {},
   "outputs": [],
   "source": [
    "X=df.drop(\"Rating\",axis=1)\n",
    "Y=df[\"Rating\"]"
   ]
  },
  {
   "cell_type": "code",
   "execution_count": 476,
   "id": "1b074a99-ba92-4fca-a531-dabb90b5c5b7",
   "metadata": {},
   "outputs": [],
   "source": [
    "X.loc[:,:]=scaler.fit_transform(X_scaled.loc[:,:])"
   ]
  },
  {
   "cell_type": "code",
   "execution_count": 477,
   "id": "ea0b8875-669a-4b8b-8819-8e07ffe891e7",
   "metadata": {},
   "outputs": [
    {
     "data": {
      "text/html": [
       "<div>\n",
       "<style scoped>\n",
       "    .dataframe tbody tr th:only-of-type {\n",
       "        vertical-align: middle;\n",
       "    }\n",
       "\n",
       "    .dataframe tbody tr th {\n",
       "        vertical-align: top;\n",
       "    }\n",
       "\n",
       "    .dataframe thead th {\n",
       "        text-align: right;\n",
       "    }\n",
       "</style>\n",
       "<table border=\"1\" class=\"dataframe\">\n",
       "  <thead>\n",
       "    <tr style=\"text-align: right;\">\n",
       "      <th></th>\n",
       "      <th>Year</th>\n",
       "      <th>Genre</th>\n",
       "      <th>Director</th>\n",
       "      <th>Actor 1</th>\n",
       "      <th>Actor 2</th>\n",
       "      <th>Actor 3</th>\n",
       "    </tr>\n",
       "  </thead>\n",
       "  <tbody>\n",
       "    <tr>\n",
       "      <th>8146</th>\n",
       "      <td>-2.000000</td>\n",
       "      <td>-0.380228</td>\n",
       "      <td>-0.592204</td>\n",
       "      <td>-0.823423</td>\n",
       "      <td>0.398196</td>\n",
       "      <td>0.371206</td>\n",
       "    </tr>\n",
       "    <tr>\n",
       "      <th>7253</th>\n",
       "      <td>-1.710526</td>\n",
       "      <td>-0.380228</td>\n",
       "      <td>-0.833827</td>\n",
       "      <td>0.938728</td>\n",
       "      <td>-0.007594</td>\n",
       "      <td>0.506571</td>\n",
       "    </tr>\n",
       "    <tr>\n",
       "      <th>7336</th>\n",
       "      <td>-1.710526</td>\n",
       "      <td>0.000000</td>\n",
       "      <td>0.203784</td>\n",
       "      <td>0.563340</td>\n",
       "      <td>-0.137162</td>\n",
       "      <td>-0.305152</td>\n",
       "    </tr>\n",
       "    <tr>\n",
       "      <th>11659</th>\n",
       "      <td>-1.631579</td>\n",
       "      <td>0.140684</td>\n",
       "      <td>0.138591</td>\n",
       "      <td>-0.185884</td>\n",
       "      <td>-0.664452</td>\n",
       "      <td>0.934992</td>\n",
       "    </tr>\n",
       "    <tr>\n",
       "      <th>3500</th>\n",
       "      <td>-1.631579</td>\n",
       "      <td>0.000000</td>\n",
       "      <td>0.033280</td>\n",
       "      <td>-0.164685</td>\n",
       "      <td>0.068818</td>\n",
       "      <td>0.131178</td>\n",
       "    </tr>\n",
       "    <tr>\n",
       "      <th>...</th>\n",
       "      <td>...</td>\n",
       "      <td>...</td>\n",
       "      <td>...</td>\n",
       "      <td>...</td>\n",
       "      <td>...</td>\n",
       "      <td>...</td>\n",
       "    </tr>\n",
       "    <tr>\n",
       "      <th>5084</th>\n",
       "      <td>0.763158</td>\n",
       "      <td>0.053232</td>\n",
       "      <td>-0.080693</td>\n",
       "      <td>0.982678</td>\n",
       "      <td>0.805411</td>\n",
       "      <td>-0.484708</td>\n",
       "    </tr>\n",
       "    <tr>\n",
       "      <th>1537</th>\n",
       "      <td>0.763158</td>\n",
       "      <td>0.646388</td>\n",
       "      <td>-0.684750</td>\n",
       "      <td>0.352896</td>\n",
       "      <td>0.518747</td>\n",
       "      <td>0.591232</td>\n",
       "    </tr>\n",
       "    <tr>\n",
       "      <th>14360</th>\n",
       "      <td>0.763158</td>\n",
       "      <td>0.387833</td>\n",
       "      <td>0.278550</td>\n",
       "      <td>-0.270683</td>\n",
       "      <td>-0.868533</td>\n",
       "      <td>-0.537737</td>\n",
       "    </tr>\n",
       "    <tr>\n",
       "      <th>9042</th>\n",
       "      <td>0.763158</td>\n",
       "      <td>0.376426</td>\n",
       "      <td>0.388420</td>\n",
       "      <td>0.859100</td>\n",
       "      <td>0.490271</td>\n",
       "      <td>-0.846145</td>\n",
       "    </tr>\n",
       "    <tr>\n",
       "      <th>640</th>\n",
       "      <td>0.763158</td>\n",
       "      <td>-0.931559</td>\n",
       "      <td>-0.311830</td>\n",
       "      <td>0.134695</td>\n",
       "      <td>0.507356</td>\n",
       "      <td>-0.702872</td>\n",
       "    </tr>\n",
       "  </tbody>\n",
       "</table>\n",
       "<p>11994 rows × 6 columns</p>\n",
       "</div>"
      ],
      "text/plain": [
       "           Year     Genre  Director   Actor 1   Actor 2   Actor 3\n",
       "8146  -2.000000 -0.380228 -0.592204 -0.823423  0.398196  0.371206\n",
       "7253  -1.710526 -0.380228 -0.833827  0.938728 -0.007594  0.506571\n",
       "7336  -1.710526  0.000000  0.203784  0.563340 -0.137162 -0.305152\n",
       "11659 -1.631579  0.140684  0.138591 -0.185884 -0.664452  0.934992\n",
       "3500  -1.631579  0.000000  0.033280 -0.164685  0.068818  0.131178\n",
       "...         ...       ...       ...       ...       ...       ...\n",
       "5084   0.763158  0.053232 -0.080693  0.982678  0.805411 -0.484708\n",
       "1537   0.763158  0.646388 -0.684750  0.352896  0.518747  0.591232\n",
       "14360  0.763158  0.387833  0.278550 -0.270683 -0.868533 -0.537737\n",
       "9042   0.763158  0.376426  0.388420  0.859100  0.490271 -0.846145\n",
       "640    0.763158 -0.931559 -0.311830  0.134695  0.507356 -0.702872\n",
       "\n",
       "[11994 rows x 6 columns]"
      ]
     },
     "execution_count": 477,
     "metadata": {},
     "output_type": "execute_result"
    }
   ],
   "source": [
    "X"
   ]
  },
  {
   "cell_type": "markdown",
   "id": "2a2278a0-4685-4226-ba83-dc0ea0fd1593",
   "metadata": {},
   "source": [
    "#### Regression result"
   ]
  },
  {
   "cell_type": "code",
   "execution_count": 478,
   "id": "6afcb5fa-efe0-4528-8ec4-828e81e27c65",
   "metadata": {},
   "outputs": [],
   "source": [
    "from sklearn.metrics import mean_absolute_error,mean_squared_error,r2_score\n",
    "from sklearn.model_selection import cross_val_score"
   ]
  },
  {
   "cell_type": "code",
   "execution_count": 479,
   "id": "76b14cea-a5c2-45e7-8c6d-855b748a4f90",
   "metadata": {},
   "outputs": [],
   "source": [
    "def model_accuracy(X_train,Y_train,Y_test,Y_pred,model,model_name):\n",
    "    cvs=cross_val_score(model,X_train,Y_train,cv=10)\n",
    "    print(\"Cross Validation Score :\",cvs)\n",
    "    print(\"Average Cross Validation Score :\",cvs.mean())\n",
    "    print(f\"Mean Absolute Error for {model_name} :\",mean_absolute_error(Y_test,Y_pred))\n",
    "    print(f\"Mean Squared Error for {model_name} :\",mean_squared_error(Y_test,Y_pred))\n",
    "    print(f\"R2 Score for {model_name} :\",r2_score(Y_test,Y_pred))"
   ]
  },
  {
   "cell_type": "markdown",
   "id": "83c6514f-1a8e-4bb5-99e8-5c6246085411",
   "metadata": {},
   "source": [
    "#### Train test split"
   ]
  },
  {
   "cell_type": "code",
   "execution_count": 480,
   "id": "d6c2c9e7-c985-4aec-bf80-dcb3b604e869",
   "metadata": {},
   "outputs": [],
   "source": [
    "from sklearn.model_selection import train_test_split"
   ]
  },
  {
   "cell_type": "code",
   "execution_count": 481,
   "id": "7f720049-4e8e-41f7-a565-06d9119ea551",
   "metadata": {},
   "outputs": [],
   "source": [
    "X_train,X_test,Y_train,Y_test=train_test_split(X,Y,test_size=0.33,random_state=45)"
   ]
  },
  {
   "cell_type": "markdown",
   "id": "dfb4eb60-8e97-4a23-89dc-eaf7a94a1b1a",
   "metadata": {},
   "source": [
    "#### ML Models"
   ]
  },
  {
   "cell_type": "code",
   "execution_count": 482,
   "id": "fd588101-e440-4565-94d5-a1358a065843",
   "metadata": {},
   "outputs": [],
   "source": [
    "from sklearn.linear_model import LinearRegression\n",
    "from sklearn.tree import DecisionTreeRegressor\n",
    "from sklearn.ensemble import RandomForestRegressor\n",
    "from xgboost import XGBRegressor"
   ]
  },
  {
   "cell_type": "markdown",
   "id": "1411d232-3385-4dba-821d-1e707c388b28",
   "metadata": {},
   "source": [
    "#### 1. Linear Regression"
   ]
  },
  {
   "cell_type": "code",
   "execution_count": 483,
   "id": "461631c7-1015-4ae4-8f7b-343df3d09b3f",
   "metadata": {},
   "outputs": [
    {
     "data": {
      "text/html": [
       "<style>#sk-container-id-8 {color: black;background-color: white;}#sk-container-id-8 pre{padding: 0;}#sk-container-id-8 div.sk-toggleable {background-color: white;}#sk-container-id-8 label.sk-toggleable__label {cursor: pointer;display: block;width: 100%;margin-bottom: 0;padding: 0.3em;box-sizing: border-box;text-align: center;}#sk-container-id-8 label.sk-toggleable__label-arrow:before {content: \"▸\";float: left;margin-right: 0.25em;color: #696969;}#sk-container-id-8 label.sk-toggleable__label-arrow:hover:before {color: black;}#sk-container-id-8 div.sk-estimator:hover label.sk-toggleable__label-arrow:before {color: black;}#sk-container-id-8 div.sk-toggleable__content {max-height: 0;max-width: 0;overflow: hidden;text-align: left;background-color: #f0f8ff;}#sk-container-id-8 div.sk-toggleable__content pre {margin: 0.2em;color: black;border-radius: 0.25em;background-color: #f0f8ff;}#sk-container-id-8 input.sk-toggleable__control:checked~div.sk-toggleable__content {max-height: 200px;max-width: 100%;overflow: auto;}#sk-container-id-8 input.sk-toggleable__control:checked~label.sk-toggleable__label-arrow:before {content: \"▾\";}#sk-container-id-8 div.sk-estimator input.sk-toggleable__control:checked~label.sk-toggleable__label {background-color: #d4ebff;}#sk-container-id-8 div.sk-label input.sk-toggleable__control:checked~label.sk-toggleable__label {background-color: #d4ebff;}#sk-container-id-8 input.sk-hidden--visually {border: 0;clip: rect(1px 1px 1px 1px);clip: rect(1px, 1px, 1px, 1px);height: 1px;margin: -1px;overflow: hidden;padding: 0;position: absolute;width: 1px;}#sk-container-id-8 div.sk-estimator {font-family: monospace;background-color: #f0f8ff;border: 1px dotted black;border-radius: 0.25em;box-sizing: border-box;margin-bottom: 0.5em;}#sk-container-id-8 div.sk-estimator:hover {background-color: #d4ebff;}#sk-container-id-8 div.sk-parallel-item::after {content: \"\";width: 100%;border-bottom: 1px solid gray;flex-grow: 1;}#sk-container-id-8 div.sk-label:hover label.sk-toggleable__label {background-color: #d4ebff;}#sk-container-id-8 div.sk-serial::before {content: \"\";position: absolute;border-left: 1px solid gray;box-sizing: border-box;top: 0;bottom: 0;left: 50%;z-index: 0;}#sk-container-id-8 div.sk-serial {display: flex;flex-direction: column;align-items: center;background-color: white;padding-right: 0.2em;padding-left: 0.2em;position: relative;}#sk-container-id-8 div.sk-item {position: relative;z-index: 1;}#sk-container-id-8 div.sk-parallel {display: flex;align-items: stretch;justify-content: center;background-color: white;position: relative;}#sk-container-id-8 div.sk-item::before, #sk-container-id-8 div.sk-parallel-item::before {content: \"\";position: absolute;border-left: 1px solid gray;box-sizing: border-box;top: 0;bottom: 0;left: 50%;z-index: -1;}#sk-container-id-8 div.sk-parallel-item {display: flex;flex-direction: column;z-index: 1;position: relative;background-color: white;}#sk-container-id-8 div.sk-parallel-item:first-child::after {align-self: flex-end;width: 50%;}#sk-container-id-8 div.sk-parallel-item:last-child::after {align-self: flex-start;width: 50%;}#sk-container-id-8 div.sk-parallel-item:only-child::after {width: 0;}#sk-container-id-8 div.sk-dashed-wrapped {border: 1px dashed gray;margin: 0 0.4em 0.5em 0.4em;box-sizing: border-box;padding-bottom: 0.4em;background-color: white;}#sk-container-id-8 div.sk-label label {font-family: monospace;font-weight: bold;display: inline-block;line-height: 1.2em;}#sk-container-id-8 div.sk-label-container {text-align: center;}#sk-container-id-8 div.sk-container {/* jupyter's `normalize.less` sets `[hidden] { display: none; }` but bootstrap.min.css set `[hidden] { display: none !important; }` so we also need the `!important` here to be able to override the default hidden behavior on the sphinx rendered scikit-learn.org. See: https://github.com/scikit-learn/scikit-learn/issues/21755 */display: inline-block !important;position: relative;}#sk-container-id-8 div.sk-text-repr-fallback {display: none;}</style><div id=\"sk-container-id-8\" class=\"sk-top-container\"><div class=\"sk-text-repr-fallback\"><pre>LinearRegression()</pre><b>In a Jupyter environment, please rerun this cell to show the HTML representation or trust the notebook. <br />On GitHub, the HTML representation is unable to render, please try loading this page with nbviewer.org.</b></div><div class=\"sk-container\" hidden><div class=\"sk-item\"><div class=\"sk-estimator sk-toggleable\"><input class=\"sk-toggleable__control sk-hidden--visually\" id=\"sk-estimator-id-10\" type=\"checkbox\" checked><label for=\"sk-estimator-id-10\" class=\"sk-toggleable__label sk-toggleable__label-arrow\">LinearRegression</label><div class=\"sk-toggleable__content\"><pre>LinearRegression()</pre></div></div></div></div></div>"
      ],
      "text/plain": [
       "LinearRegression()"
      ]
     },
     "execution_count": 483,
     "metadata": {},
     "output_type": "execute_result"
    }
   ],
   "source": [
    "lr=LinearRegression()\n",
    "lr.fit(X_train,Y_train)"
   ]
  },
  {
   "cell_type": "code",
   "execution_count": 484,
   "id": "5bf1ed89-5f82-4871-8351-ef859ee5c9c7",
   "metadata": {},
   "outputs": [],
   "source": [
    "Y_pred=lr.predict(X_test)"
   ]
  },
  {
   "cell_type": "code",
   "execution_count": 485,
   "id": "bc260a72-de5b-4f82-845c-17e1fac38d3c",
   "metadata": {},
   "outputs": [
    {
     "name": "stdout",
     "output_type": "stream",
     "text": [
      "Cross Validation Score : [-0.00332318  0.02293398  0.03241009  0.00687624  0.02451591  0.01674321\n",
      "  0.03056389  0.0228647   0.00962788  0.00795896]\n",
      "Average Cross Validation Score : 0.017117170079652976\n",
      "Mean Absolute Error for Linear Regression : 0.7549778885317788\n",
      "Mean Squared Error for Linear Regression : 1.1752666171892145\n",
      "R2 Score for Linear Regression : 0.01648191927887377\n"
     ]
    }
   ],
   "source": [
    "model_accuracy(X_train,Y_train,Y_test,Y_pred,lr,\"Linear Regression\")"
   ]
  },
  {
   "cell_type": "markdown",
   "id": "e71803b8-f382-4c7f-94ce-c3a46d78275e",
   "metadata": {},
   "source": [
    "#### 2. Decision Tree"
   ]
  },
  {
   "cell_type": "code",
   "execution_count": 486,
   "id": "35594a52-f417-41a2-8e30-6429abc5edae",
   "metadata": {},
   "outputs": [
    {
     "data": {
      "text/html": [
       "<style>#sk-container-id-9 {color: black;background-color: white;}#sk-container-id-9 pre{padding: 0;}#sk-container-id-9 div.sk-toggleable {background-color: white;}#sk-container-id-9 label.sk-toggleable__label {cursor: pointer;display: block;width: 100%;margin-bottom: 0;padding: 0.3em;box-sizing: border-box;text-align: center;}#sk-container-id-9 label.sk-toggleable__label-arrow:before {content: \"▸\";float: left;margin-right: 0.25em;color: #696969;}#sk-container-id-9 label.sk-toggleable__label-arrow:hover:before {color: black;}#sk-container-id-9 div.sk-estimator:hover label.sk-toggleable__label-arrow:before {color: black;}#sk-container-id-9 div.sk-toggleable__content {max-height: 0;max-width: 0;overflow: hidden;text-align: left;background-color: #f0f8ff;}#sk-container-id-9 div.sk-toggleable__content pre {margin: 0.2em;color: black;border-radius: 0.25em;background-color: #f0f8ff;}#sk-container-id-9 input.sk-toggleable__control:checked~div.sk-toggleable__content {max-height: 200px;max-width: 100%;overflow: auto;}#sk-container-id-9 input.sk-toggleable__control:checked~label.sk-toggleable__label-arrow:before {content: \"▾\";}#sk-container-id-9 div.sk-estimator input.sk-toggleable__control:checked~label.sk-toggleable__label {background-color: #d4ebff;}#sk-container-id-9 div.sk-label input.sk-toggleable__control:checked~label.sk-toggleable__label {background-color: #d4ebff;}#sk-container-id-9 input.sk-hidden--visually {border: 0;clip: rect(1px 1px 1px 1px);clip: rect(1px, 1px, 1px, 1px);height: 1px;margin: -1px;overflow: hidden;padding: 0;position: absolute;width: 1px;}#sk-container-id-9 div.sk-estimator {font-family: monospace;background-color: #f0f8ff;border: 1px dotted black;border-radius: 0.25em;box-sizing: border-box;margin-bottom: 0.5em;}#sk-container-id-9 div.sk-estimator:hover {background-color: #d4ebff;}#sk-container-id-9 div.sk-parallel-item::after {content: \"\";width: 100%;border-bottom: 1px solid gray;flex-grow: 1;}#sk-container-id-9 div.sk-label:hover label.sk-toggleable__label {background-color: #d4ebff;}#sk-container-id-9 div.sk-serial::before {content: \"\";position: absolute;border-left: 1px solid gray;box-sizing: border-box;top: 0;bottom: 0;left: 50%;z-index: 0;}#sk-container-id-9 div.sk-serial {display: flex;flex-direction: column;align-items: center;background-color: white;padding-right: 0.2em;padding-left: 0.2em;position: relative;}#sk-container-id-9 div.sk-item {position: relative;z-index: 1;}#sk-container-id-9 div.sk-parallel {display: flex;align-items: stretch;justify-content: center;background-color: white;position: relative;}#sk-container-id-9 div.sk-item::before, #sk-container-id-9 div.sk-parallel-item::before {content: \"\";position: absolute;border-left: 1px solid gray;box-sizing: border-box;top: 0;bottom: 0;left: 50%;z-index: -1;}#sk-container-id-9 div.sk-parallel-item {display: flex;flex-direction: column;z-index: 1;position: relative;background-color: white;}#sk-container-id-9 div.sk-parallel-item:first-child::after {align-self: flex-end;width: 50%;}#sk-container-id-9 div.sk-parallel-item:last-child::after {align-self: flex-start;width: 50%;}#sk-container-id-9 div.sk-parallel-item:only-child::after {width: 0;}#sk-container-id-9 div.sk-dashed-wrapped {border: 1px dashed gray;margin: 0 0.4em 0.5em 0.4em;box-sizing: border-box;padding-bottom: 0.4em;background-color: white;}#sk-container-id-9 div.sk-label label {font-family: monospace;font-weight: bold;display: inline-block;line-height: 1.2em;}#sk-container-id-9 div.sk-label-container {text-align: center;}#sk-container-id-9 div.sk-container {/* jupyter's `normalize.less` sets `[hidden] { display: none; }` but bootstrap.min.css set `[hidden] { display: none !important; }` so we also need the `!important` here to be able to override the default hidden behavior on the sphinx rendered scikit-learn.org. See: https://github.com/scikit-learn/scikit-learn/issues/21755 */display: inline-block !important;position: relative;}#sk-container-id-9 div.sk-text-repr-fallback {display: none;}</style><div id=\"sk-container-id-9\" class=\"sk-top-container\"><div class=\"sk-text-repr-fallback\"><pre>DecisionTreeRegressor()</pre><b>In a Jupyter environment, please rerun this cell to show the HTML representation or trust the notebook. <br />On GitHub, the HTML representation is unable to render, please try loading this page with nbviewer.org.</b></div><div class=\"sk-container\" hidden><div class=\"sk-item\"><div class=\"sk-estimator sk-toggleable\"><input class=\"sk-toggleable__control sk-hidden--visually\" id=\"sk-estimator-id-11\" type=\"checkbox\" checked><label for=\"sk-estimator-id-11\" class=\"sk-toggleable__label sk-toggleable__label-arrow\">DecisionTreeRegressor</label><div class=\"sk-toggleable__content\"><pre>DecisionTreeRegressor()</pre></div></div></div></div></div>"
      ],
      "text/plain": [
       "DecisionTreeRegressor()"
      ]
     },
     "execution_count": 486,
     "metadata": {},
     "output_type": "execute_result"
    }
   ],
   "source": [
    "dt=DecisionTreeRegressor()\n",
    "dt.fit(X_train,Y_train)"
   ]
  },
  {
   "cell_type": "code",
   "execution_count": 487,
   "id": "e12c91af-5eca-4f51-817a-f16251fbc7f1",
   "metadata": {},
   "outputs": [],
   "source": [
    "Y_pred=dt.predict(X_test)"
   ]
  },
  {
   "cell_type": "code",
   "execution_count": 488,
   "id": "b32a59f1-2e3d-4f04-9aa3-369f520d16a8",
   "metadata": {},
   "outputs": [
    {
     "name": "stdout",
     "output_type": "stream",
     "text": [
      "Cross Validation Score : [-1.06104159 -0.98936126 -1.02295008 -0.84084048 -0.95700897 -1.01590751\n",
      " -0.92852081 -1.03962828 -1.13053177 -1.03934854]\n",
      "Average Cross Validation Score : -1.002513929690601\n",
      "Mean Absolute Error for Decision Tree : 1.1078290449069115\n",
      "Mean Squared Error for Decision Tree : 2.317574612997956\n",
      "R2 Score for Decision Tree : -0.9394548453653415\n"
     ]
    }
   ],
   "source": [
    "model_accuracy(X_train,Y_train,Y_test,Y_pred,dt,\"Decision Tree\")"
   ]
  },
  {
   "cell_type": "markdown",
   "id": "5f084ead-17de-4be2-ab3f-db1597bf5146",
   "metadata": {},
   "source": [
    "#### 3. Random Forest"
   ]
  },
  {
   "cell_type": "code",
   "execution_count": 489,
   "id": "76b7bd00-ab73-44c4-a130-09444baa0695",
   "metadata": {},
   "outputs": [
    {
     "data": {
      "text/html": [
       "<style>#sk-container-id-10 {color: black;background-color: white;}#sk-container-id-10 pre{padding: 0;}#sk-container-id-10 div.sk-toggleable {background-color: white;}#sk-container-id-10 label.sk-toggleable__label {cursor: pointer;display: block;width: 100%;margin-bottom: 0;padding: 0.3em;box-sizing: border-box;text-align: center;}#sk-container-id-10 label.sk-toggleable__label-arrow:before {content: \"▸\";float: left;margin-right: 0.25em;color: #696969;}#sk-container-id-10 label.sk-toggleable__label-arrow:hover:before {color: black;}#sk-container-id-10 div.sk-estimator:hover label.sk-toggleable__label-arrow:before {color: black;}#sk-container-id-10 div.sk-toggleable__content {max-height: 0;max-width: 0;overflow: hidden;text-align: left;background-color: #f0f8ff;}#sk-container-id-10 div.sk-toggleable__content pre {margin: 0.2em;color: black;border-radius: 0.25em;background-color: #f0f8ff;}#sk-container-id-10 input.sk-toggleable__control:checked~div.sk-toggleable__content {max-height: 200px;max-width: 100%;overflow: auto;}#sk-container-id-10 input.sk-toggleable__control:checked~label.sk-toggleable__label-arrow:before {content: \"▾\";}#sk-container-id-10 div.sk-estimator input.sk-toggleable__control:checked~label.sk-toggleable__label {background-color: #d4ebff;}#sk-container-id-10 div.sk-label input.sk-toggleable__control:checked~label.sk-toggleable__label {background-color: #d4ebff;}#sk-container-id-10 input.sk-hidden--visually {border: 0;clip: rect(1px 1px 1px 1px);clip: rect(1px, 1px, 1px, 1px);height: 1px;margin: -1px;overflow: hidden;padding: 0;position: absolute;width: 1px;}#sk-container-id-10 div.sk-estimator {font-family: monospace;background-color: #f0f8ff;border: 1px dotted black;border-radius: 0.25em;box-sizing: border-box;margin-bottom: 0.5em;}#sk-container-id-10 div.sk-estimator:hover {background-color: #d4ebff;}#sk-container-id-10 div.sk-parallel-item::after {content: \"\";width: 100%;border-bottom: 1px solid gray;flex-grow: 1;}#sk-container-id-10 div.sk-label:hover label.sk-toggleable__label {background-color: #d4ebff;}#sk-container-id-10 div.sk-serial::before {content: \"\";position: absolute;border-left: 1px solid gray;box-sizing: border-box;top: 0;bottom: 0;left: 50%;z-index: 0;}#sk-container-id-10 div.sk-serial {display: flex;flex-direction: column;align-items: center;background-color: white;padding-right: 0.2em;padding-left: 0.2em;position: relative;}#sk-container-id-10 div.sk-item {position: relative;z-index: 1;}#sk-container-id-10 div.sk-parallel {display: flex;align-items: stretch;justify-content: center;background-color: white;position: relative;}#sk-container-id-10 div.sk-item::before, #sk-container-id-10 div.sk-parallel-item::before {content: \"\";position: absolute;border-left: 1px solid gray;box-sizing: border-box;top: 0;bottom: 0;left: 50%;z-index: -1;}#sk-container-id-10 div.sk-parallel-item {display: flex;flex-direction: column;z-index: 1;position: relative;background-color: white;}#sk-container-id-10 div.sk-parallel-item:first-child::after {align-self: flex-end;width: 50%;}#sk-container-id-10 div.sk-parallel-item:last-child::after {align-self: flex-start;width: 50%;}#sk-container-id-10 div.sk-parallel-item:only-child::after {width: 0;}#sk-container-id-10 div.sk-dashed-wrapped {border: 1px dashed gray;margin: 0 0.4em 0.5em 0.4em;box-sizing: border-box;padding-bottom: 0.4em;background-color: white;}#sk-container-id-10 div.sk-label label {font-family: monospace;font-weight: bold;display: inline-block;line-height: 1.2em;}#sk-container-id-10 div.sk-label-container {text-align: center;}#sk-container-id-10 div.sk-container {/* jupyter's `normalize.less` sets `[hidden] { display: none; }` but bootstrap.min.css set `[hidden] { display: none !important; }` so we also need the `!important` here to be able to override the default hidden behavior on the sphinx rendered scikit-learn.org. See: https://github.com/scikit-learn/scikit-learn/issues/21755 */display: inline-block !important;position: relative;}#sk-container-id-10 div.sk-text-repr-fallback {display: none;}</style><div id=\"sk-container-id-10\" class=\"sk-top-container\"><div class=\"sk-text-repr-fallback\"><pre>RandomForestRegressor()</pre><b>In a Jupyter environment, please rerun this cell to show the HTML representation or trust the notebook. <br />On GitHub, the HTML representation is unable to render, please try loading this page with nbviewer.org.</b></div><div class=\"sk-container\" hidden><div class=\"sk-item\"><div class=\"sk-estimator sk-toggleable\"><input class=\"sk-toggleable__control sk-hidden--visually\" id=\"sk-estimator-id-12\" type=\"checkbox\" checked><label for=\"sk-estimator-id-12\" class=\"sk-toggleable__label sk-toggleable__label-arrow\">RandomForestRegressor</label><div class=\"sk-toggleable__content\"><pre>RandomForestRegressor()</pre></div></div></div></div></div>"
      ],
      "text/plain": [
       "RandomForestRegressor()"
      ]
     },
     "execution_count": 489,
     "metadata": {},
     "output_type": "execute_result"
    }
   ],
   "source": [
    "rf=RandomForestRegressor()\n",
    "rf.fit(X_train,Y_train)"
   ]
  },
  {
   "cell_type": "code",
   "execution_count": 490,
   "id": "2b43d60a-4672-4d6d-af03-2f5154b0bcf0",
   "metadata": {},
   "outputs": [],
   "source": [
    "Y_pred=rf.predict(X_test)"
   ]
  },
  {
   "cell_type": "code",
   "execution_count": 491,
   "id": "9ce51482-5153-4a54-bff2-39e969c897c2",
   "metadata": {},
   "outputs": [
    {
     "name": "stdout",
     "output_type": "stream",
     "text": [
      "Cross Validation Score : [-0.01839695  0.05276542  0.04847288  0.01537613  0.00334706  0.05476177\n",
      "  0.04347673  0.04458391 -0.02405015  0.00944205]\n",
      "Average Cross Validation Score : 0.022977885320803228\n",
      "Mean Absolute Error for Random Forest : 0.7848110001808215\n",
      "Mean Squared Error for Random Forest : 1.146672802622619\n",
      "R2 Score for Random Forest : 0.040410560841323995\n"
     ]
    }
   ],
   "source": [
    "model_accuracy(X_train,Y_train,Y_test,Y_pred,rf,\"Random Forest\")"
   ]
  },
  {
   "cell_type": "markdown",
   "id": "e52f6434-9e8c-4636-bd50-cb872996b5ad",
   "metadata": {},
   "source": [
    "#### 4. XgBoost"
   ]
  },
  {
   "cell_type": "code",
   "execution_count": 492,
   "id": "a9627055-02d2-48b2-94e9-a002b7e2afab",
   "metadata": {},
   "outputs": [
    {
     "data": {
      "text/html": [
       "<style>#sk-container-id-11 {color: black;background-color: white;}#sk-container-id-11 pre{padding: 0;}#sk-container-id-11 div.sk-toggleable {background-color: white;}#sk-container-id-11 label.sk-toggleable__label {cursor: pointer;display: block;width: 100%;margin-bottom: 0;padding: 0.3em;box-sizing: border-box;text-align: center;}#sk-container-id-11 label.sk-toggleable__label-arrow:before {content: \"▸\";float: left;margin-right: 0.25em;color: #696969;}#sk-container-id-11 label.sk-toggleable__label-arrow:hover:before {color: black;}#sk-container-id-11 div.sk-estimator:hover label.sk-toggleable__label-arrow:before {color: black;}#sk-container-id-11 div.sk-toggleable__content {max-height: 0;max-width: 0;overflow: hidden;text-align: left;background-color: #f0f8ff;}#sk-container-id-11 div.sk-toggleable__content pre {margin: 0.2em;color: black;border-radius: 0.25em;background-color: #f0f8ff;}#sk-container-id-11 input.sk-toggleable__control:checked~div.sk-toggleable__content {max-height: 200px;max-width: 100%;overflow: auto;}#sk-container-id-11 input.sk-toggleable__control:checked~label.sk-toggleable__label-arrow:before {content: \"▾\";}#sk-container-id-11 div.sk-estimator input.sk-toggleable__control:checked~label.sk-toggleable__label {background-color: #d4ebff;}#sk-container-id-11 div.sk-label input.sk-toggleable__control:checked~label.sk-toggleable__label {background-color: #d4ebff;}#sk-container-id-11 input.sk-hidden--visually {border: 0;clip: rect(1px 1px 1px 1px);clip: rect(1px, 1px, 1px, 1px);height: 1px;margin: -1px;overflow: hidden;padding: 0;position: absolute;width: 1px;}#sk-container-id-11 div.sk-estimator {font-family: monospace;background-color: #f0f8ff;border: 1px dotted black;border-radius: 0.25em;box-sizing: border-box;margin-bottom: 0.5em;}#sk-container-id-11 div.sk-estimator:hover {background-color: #d4ebff;}#sk-container-id-11 div.sk-parallel-item::after {content: \"\";width: 100%;border-bottom: 1px solid gray;flex-grow: 1;}#sk-container-id-11 div.sk-label:hover label.sk-toggleable__label {background-color: #d4ebff;}#sk-container-id-11 div.sk-serial::before {content: \"\";position: absolute;border-left: 1px solid gray;box-sizing: border-box;top: 0;bottom: 0;left: 50%;z-index: 0;}#sk-container-id-11 div.sk-serial {display: flex;flex-direction: column;align-items: center;background-color: white;padding-right: 0.2em;padding-left: 0.2em;position: relative;}#sk-container-id-11 div.sk-item {position: relative;z-index: 1;}#sk-container-id-11 div.sk-parallel {display: flex;align-items: stretch;justify-content: center;background-color: white;position: relative;}#sk-container-id-11 div.sk-item::before, #sk-container-id-11 div.sk-parallel-item::before {content: \"\";position: absolute;border-left: 1px solid gray;box-sizing: border-box;top: 0;bottom: 0;left: 50%;z-index: -1;}#sk-container-id-11 div.sk-parallel-item {display: flex;flex-direction: column;z-index: 1;position: relative;background-color: white;}#sk-container-id-11 div.sk-parallel-item:first-child::after {align-self: flex-end;width: 50%;}#sk-container-id-11 div.sk-parallel-item:last-child::after {align-self: flex-start;width: 50%;}#sk-container-id-11 div.sk-parallel-item:only-child::after {width: 0;}#sk-container-id-11 div.sk-dashed-wrapped {border: 1px dashed gray;margin: 0 0.4em 0.5em 0.4em;box-sizing: border-box;padding-bottom: 0.4em;background-color: white;}#sk-container-id-11 div.sk-label label {font-family: monospace;font-weight: bold;display: inline-block;line-height: 1.2em;}#sk-container-id-11 div.sk-label-container {text-align: center;}#sk-container-id-11 div.sk-container {/* jupyter's `normalize.less` sets `[hidden] { display: none; }` but bootstrap.min.css set `[hidden] { display: none !important; }` so we also need the `!important` here to be able to override the default hidden behavior on the sphinx rendered scikit-learn.org. See: https://github.com/scikit-learn/scikit-learn/issues/21755 */display: inline-block !important;position: relative;}#sk-container-id-11 div.sk-text-repr-fallback {display: none;}</style><div id=\"sk-container-id-11\" class=\"sk-top-container\"><div class=\"sk-text-repr-fallback\"><pre>XGBRegressor(base_score=None, booster=None, callbacks=None,\n",
       "             colsample_bylevel=None, colsample_bynode=None,\n",
       "             colsample_bytree=None, device=None, early_stopping_rounds=None,\n",
       "             enable_categorical=False, eval_metric=None, feature_types=None,\n",
       "             gamma=0.09, grow_policy=None, importance_type=None,\n",
       "             interaction_constraints=None, learning_rate=0.08, max_bin=None,\n",
       "             max_cat_threshold=None, max_cat_to_onehot=None,\n",
       "             max_delta_step=None, max_depth=None, max_leaves=None,\n",
       "             min_child_weight=None, missing=nan, monotone_constraints=None,\n",
       "             multi_strategy=None, n_estimators=50, n_jobs=None,\n",
       "             num_parallel_tree=None, random_state=None, ...)</pre><b>In a Jupyter environment, please rerun this cell to show the HTML representation or trust the notebook. <br />On GitHub, the HTML representation is unable to render, please try loading this page with nbviewer.org.</b></div><div class=\"sk-container\" hidden><div class=\"sk-item\"><div class=\"sk-estimator sk-toggleable\"><input class=\"sk-toggleable__control sk-hidden--visually\" id=\"sk-estimator-id-13\" type=\"checkbox\" checked><label for=\"sk-estimator-id-13\" class=\"sk-toggleable__label sk-toggleable__label-arrow\">XGBRegressor</label><div class=\"sk-toggleable__content\"><pre>XGBRegressor(base_score=None, booster=None, callbacks=None,\n",
       "             colsample_bylevel=None, colsample_bynode=None,\n",
       "             colsample_bytree=None, device=None, early_stopping_rounds=None,\n",
       "             enable_categorical=False, eval_metric=None, feature_types=None,\n",
       "             gamma=0.09, grow_policy=None, importance_type=None,\n",
       "             interaction_constraints=None, learning_rate=0.08, max_bin=None,\n",
       "             max_cat_threshold=None, max_cat_to_onehot=None,\n",
       "             max_delta_step=None, max_depth=None, max_leaves=None,\n",
       "             min_child_weight=None, missing=nan, monotone_constraints=None,\n",
       "             multi_strategy=None, n_estimators=50, n_jobs=None,\n",
       "             num_parallel_tree=None, random_state=None, ...)</pre></div></div></div></div></div>"
      ],
      "text/plain": [
       "XGBRegressor(base_score=None, booster=None, callbacks=None,\n",
       "             colsample_bylevel=None, colsample_bynode=None,\n",
       "             colsample_bytree=None, device=None, early_stopping_rounds=None,\n",
       "             enable_categorical=False, eval_metric=None, feature_types=None,\n",
       "             gamma=0.09, grow_policy=None, importance_type=None,\n",
       "             interaction_constraints=None, learning_rate=0.08, max_bin=None,\n",
       "             max_cat_threshold=None, max_cat_to_onehot=None,\n",
       "             max_delta_step=None, max_depth=None, max_leaves=None,\n",
       "             min_child_weight=None, missing=nan, monotone_constraints=None,\n",
       "             multi_strategy=None, n_estimators=50, n_jobs=None,\n",
       "             num_parallel_tree=None, random_state=None, ...)"
      ]
     },
     "execution_count": 492,
     "metadata": {},
     "output_type": "execute_result"
    }
   ],
   "source": [
    "xg=XGBRegressor(n_estimators=50,objective ='reg:squarederror',gamma=0.09,learning_rate=0.08,subsample=0.7)\n",
    "xg.fit(X_train,Y_train)"
   ]
  },
  {
   "cell_type": "code",
   "execution_count": 493,
   "id": "c582ea8f-fcfe-430d-96cd-1a7ca866d7ac",
   "metadata": {},
   "outputs": [],
   "source": [
    "Y_pred=xg.predict(X_test)"
   ]
  },
  {
   "cell_type": "code",
   "execution_count": 494,
   "id": "9d43e74c-ca1c-4505-a702-c9cf7c79eff8",
   "metadata": {},
   "outputs": [
    {
     "name": "stdout",
     "output_type": "stream",
     "text": [
      "Cross Validation Score : [0.03119736 0.07028257 0.09211238 0.04605352 0.05455431 0.08689013\n",
      " 0.07998807 0.06789456 0.02095953 0.06135044]\n",
      "Average Cross Validation Score : 0.061128286580566425\n",
      "Mean Absolute Error for XgBoost : 0.7674557079765908\n",
      "Mean Squared Error for XgBoost : 1.1148355745454064\n",
      "R2 Score for XgBoost : 0.06705344254664147\n"
     ]
    }
   ],
   "source": [
    "model_accuracy(X_train,Y_train,Y_test,Y_pred,xg,\"XgBoost\")"
   ]
  },
  {
   "cell_type": "markdown",
   "id": "2dc58ecf-e72d-444d-a96f-50a18c72785f",
   "metadata": {},
   "source": [
    "#### From above model Xg Boost model performs best with a r2 score of 0.067 so we will continue with XgBoost"
   ]
  },
  {
   "cell_type": "markdown",
   "id": "091f4f6c-0f04-4ce6-a8fb-a7e1613f1fdd",
   "metadata": {},
   "source": [
    "### Hyper Parameter tuning for XgBoost"
   ]
  },
  {
   "cell_type": "code",
   "execution_count": 495,
   "id": "c457e81b-d16f-474e-8bfe-c0073fa01e5f",
   "metadata": {},
   "outputs": [],
   "source": [
    "params = {\n",
    "    'learning_rate': [0.01, 0.05, 0.1, 0.2],\n",
    "    'max_depth': [3, 5, 7, 10],\n",
    "    'min_child_weight': [1, 3, 5],\n",
    "    'subsample': [0.6, 0.8, 1.0],\n",
    "    'colsample_bytree': [0.6, 0.8, 1.0],\n",
    "    'n_estimators': [100, 200, 500]\n",
    "}"
   ]
  },
  {
   "cell_type": "code",
   "execution_count": 496,
   "id": "f181c611-e320-4459-8e1a-74a893c650d3",
   "metadata": {},
   "outputs": [],
   "source": [
    "from sklearn.model_selection import GridSearchCV"
   ]
  },
  {
   "cell_type": "code",
   "execution_count": 497,
   "id": "867f6995-1119-488c-9e08-1300e767a967",
   "metadata": {},
   "outputs": [],
   "source": [
    "grid=GridSearchCV(estimator=xg,param_grid=params,n_jobs=-1,verbose=2,cv=10,scoring=\"neg_mean_squared_error\")"
   ]
  },
  {
   "cell_type": "code",
   "execution_count": 498,
   "id": "9119b2e3-7971-462e-9dfe-3b3a620b6cf6",
   "metadata": {},
   "outputs": [
    {
     "name": "stdout",
     "output_type": "stream",
     "text": [
      "Fitting 10 folds for each of 1296 candidates, totalling 12960 fits\n"
     ]
    },
    {
     "data": {
      "text/html": [
       "<style>#sk-container-id-12 {color: black;background-color: white;}#sk-container-id-12 pre{padding: 0;}#sk-container-id-12 div.sk-toggleable {background-color: white;}#sk-container-id-12 label.sk-toggleable__label {cursor: pointer;display: block;width: 100%;margin-bottom: 0;padding: 0.3em;box-sizing: border-box;text-align: center;}#sk-container-id-12 label.sk-toggleable__label-arrow:before {content: \"▸\";float: left;margin-right: 0.25em;color: #696969;}#sk-container-id-12 label.sk-toggleable__label-arrow:hover:before {color: black;}#sk-container-id-12 div.sk-estimator:hover label.sk-toggleable__label-arrow:before {color: black;}#sk-container-id-12 div.sk-toggleable__content {max-height: 0;max-width: 0;overflow: hidden;text-align: left;background-color: #f0f8ff;}#sk-container-id-12 div.sk-toggleable__content pre {margin: 0.2em;color: black;border-radius: 0.25em;background-color: #f0f8ff;}#sk-container-id-12 input.sk-toggleable__control:checked~div.sk-toggleable__content {max-height: 200px;max-width: 100%;overflow: auto;}#sk-container-id-12 input.sk-toggleable__control:checked~label.sk-toggleable__label-arrow:before {content: \"▾\";}#sk-container-id-12 div.sk-estimator input.sk-toggleable__control:checked~label.sk-toggleable__label {background-color: #d4ebff;}#sk-container-id-12 div.sk-label input.sk-toggleable__control:checked~label.sk-toggleable__label {background-color: #d4ebff;}#sk-container-id-12 input.sk-hidden--visually {border: 0;clip: rect(1px 1px 1px 1px);clip: rect(1px, 1px, 1px, 1px);height: 1px;margin: -1px;overflow: hidden;padding: 0;position: absolute;width: 1px;}#sk-container-id-12 div.sk-estimator {font-family: monospace;background-color: #f0f8ff;border: 1px dotted black;border-radius: 0.25em;box-sizing: border-box;margin-bottom: 0.5em;}#sk-container-id-12 div.sk-estimator:hover {background-color: #d4ebff;}#sk-container-id-12 div.sk-parallel-item::after {content: \"\";width: 100%;border-bottom: 1px solid gray;flex-grow: 1;}#sk-container-id-12 div.sk-label:hover label.sk-toggleable__label {background-color: #d4ebff;}#sk-container-id-12 div.sk-serial::before {content: \"\";position: absolute;border-left: 1px solid gray;box-sizing: border-box;top: 0;bottom: 0;left: 50%;z-index: 0;}#sk-container-id-12 div.sk-serial {display: flex;flex-direction: column;align-items: center;background-color: white;padding-right: 0.2em;padding-left: 0.2em;position: relative;}#sk-container-id-12 div.sk-item {position: relative;z-index: 1;}#sk-container-id-12 div.sk-parallel {display: flex;align-items: stretch;justify-content: center;background-color: white;position: relative;}#sk-container-id-12 div.sk-item::before, #sk-container-id-12 div.sk-parallel-item::before {content: \"\";position: absolute;border-left: 1px solid gray;box-sizing: border-box;top: 0;bottom: 0;left: 50%;z-index: -1;}#sk-container-id-12 div.sk-parallel-item {display: flex;flex-direction: column;z-index: 1;position: relative;background-color: white;}#sk-container-id-12 div.sk-parallel-item:first-child::after {align-self: flex-end;width: 50%;}#sk-container-id-12 div.sk-parallel-item:last-child::after {align-self: flex-start;width: 50%;}#sk-container-id-12 div.sk-parallel-item:only-child::after {width: 0;}#sk-container-id-12 div.sk-dashed-wrapped {border: 1px dashed gray;margin: 0 0.4em 0.5em 0.4em;box-sizing: border-box;padding-bottom: 0.4em;background-color: white;}#sk-container-id-12 div.sk-label label {font-family: monospace;font-weight: bold;display: inline-block;line-height: 1.2em;}#sk-container-id-12 div.sk-label-container {text-align: center;}#sk-container-id-12 div.sk-container {/* jupyter's `normalize.less` sets `[hidden] { display: none; }` but bootstrap.min.css set `[hidden] { display: none !important; }` so we also need the `!important` here to be able to override the default hidden behavior on the sphinx rendered scikit-learn.org. See: https://github.com/scikit-learn/scikit-learn/issues/21755 */display: inline-block !important;position: relative;}#sk-container-id-12 div.sk-text-repr-fallback {display: none;}</style><div id=\"sk-container-id-12\" class=\"sk-top-container\"><div class=\"sk-text-repr-fallback\"><pre>GridSearchCV(cv=10,\n",
       "             estimator=XGBRegressor(base_score=None, booster=None,\n",
       "                                    callbacks=None, colsample_bylevel=None,\n",
       "                                    colsample_bynode=None,\n",
       "                                    colsample_bytree=None, device=None,\n",
       "                                    early_stopping_rounds=None,\n",
       "                                    enable_categorical=False, eval_metric=None,\n",
       "                                    feature_types=None, gamma=0.09,\n",
       "                                    grow_policy=None, importance_type=None,\n",
       "                                    interaction_constraints=None,\n",
       "                                    learning_rate=0.08,...\n",
       "                                    monotone_constraints=None,\n",
       "                                    multi_strategy=None, n_estimators=50,\n",
       "                                    n_jobs=None, num_parallel_tree=None,\n",
       "                                    random_state=None, ...),\n",
       "             n_jobs=-1,\n",
       "             param_grid={&#x27;colsample_bytree&#x27;: [0.6, 0.8, 1.0],\n",
       "                         &#x27;learning_rate&#x27;: [0.01, 0.05, 0.1, 0.2],\n",
       "                         &#x27;max_depth&#x27;: [3, 5, 7, 10],\n",
       "                         &#x27;min_child_weight&#x27;: [1, 3, 5],\n",
       "                         &#x27;n_estimators&#x27;: [100, 200, 500],\n",
       "                         &#x27;subsample&#x27;: [0.6, 0.8, 1.0]},\n",
       "             scoring=&#x27;neg_mean_squared_error&#x27;, verbose=2)</pre><b>In a Jupyter environment, please rerun this cell to show the HTML representation or trust the notebook. <br />On GitHub, the HTML representation is unable to render, please try loading this page with nbviewer.org.</b></div><div class=\"sk-container\" hidden><div class=\"sk-item sk-dashed-wrapped\"><div class=\"sk-label-container\"><div class=\"sk-label sk-toggleable\"><input class=\"sk-toggleable__control sk-hidden--visually\" id=\"sk-estimator-id-14\" type=\"checkbox\" ><label for=\"sk-estimator-id-14\" class=\"sk-toggleable__label sk-toggleable__label-arrow\">GridSearchCV</label><div class=\"sk-toggleable__content\"><pre>GridSearchCV(cv=10,\n",
       "             estimator=XGBRegressor(base_score=None, booster=None,\n",
       "                                    callbacks=None, colsample_bylevel=None,\n",
       "                                    colsample_bynode=None,\n",
       "                                    colsample_bytree=None, device=None,\n",
       "                                    early_stopping_rounds=None,\n",
       "                                    enable_categorical=False, eval_metric=None,\n",
       "                                    feature_types=None, gamma=0.09,\n",
       "                                    grow_policy=None, importance_type=None,\n",
       "                                    interaction_constraints=None,\n",
       "                                    learning_rate=0.08,...\n",
       "                                    monotone_constraints=None,\n",
       "                                    multi_strategy=None, n_estimators=50,\n",
       "                                    n_jobs=None, num_parallel_tree=None,\n",
       "                                    random_state=None, ...),\n",
       "             n_jobs=-1,\n",
       "             param_grid={&#x27;colsample_bytree&#x27;: [0.6, 0.8, 1.0],\n",
       "                         &#x27;learning_rate&#x27;: [0.01, 0.05, 0.1, 0.2],\n",
       "                         &#x27;max_depth&#x27;: [3, 5, 7, 10],\n",
       "                         &#x27;min_child_weight&#x27;: [1, 3, 5],\n",
       "                         &#x27;n_estimators&#x27;: [100, 200, 500],\n",
       "                         &#x27;subsample&#x27;: [0.6, 0.8, 1.0]},\n",
       "             scoring=&#x27;neg_mean_squared_error&#x27;, verbose=2)</pre></div></div></div><div class=\"sk-parallel\"><div class=\"sk-parallel-item\"><div class=\"sk-item\"><div class=\"sk-label-container\"><div class=\"sk-label sk-toggleable\"><input class=\"sk-toggleable__control sk-hidden--visually\" id=\"sk-estimator-id-15\" type=\"checkbox\" ><label for=\"sk-estimator-id-15\" class=\"sk-toggleable__label sk-toggleable__label-arrow\">estimator: XGBRegressor</label><div class=\"sk-toggleable__content\"><pre>XGBRegressor(base_score=None, booster=None, callbacks=None,\n",
       "             colsample_bylevel=None, colsample_bynode=None,\n",
       "             colsample_bytree=None, device=None, early_stopping_rounds=None,\n",
       "             enable_categorical=False, eval_metric=None, feature_types=None,\n",
       "             gamma=0.09, grow_policy=None, importance_type=None,\n",
       "             interaction_constraints=None, learning_rate=0.08, max_bin=None,\n",
       "             max_cat_threshold=None, max_cat_to_onehot=None,\n",
       "             max_delta_step=None, max_depth=None, max_leaves=None,\n",
       "             min_child_weight=None, missing=nan, monotone_constraints=None,\n",
       "             multi_strategy=None, n_estimators=50, n_jobs=None,\n",
       "             num_parallel_tree=None, random_state=None, ...)</pre></div></div></div><div class=\"sk-serial\"><div class=\"sk-item\"><div class=\"sk-estimator sk-toggleable\"><input class=\"sk-toggleable__control sk-hidden--visually\" id=\"sk-estimator-id-16\" type=\"checkbox\" ><label for=\"sk-estimator-id-16\" class=\"sk-toggleable__label sk-toggleable__label-arrow\">XGBRegressor</label><div class=\"sk-toggleable__content\"><pre>XGBRegressor(base_score=None, booster=None, callbacks=None,\n",
       "             colsample_bylevel=None, colsample_bynode=None,\n",
       "             colsample_bytree=None, device=None, early_stopping_rounds=None,\n",
       "             enable_categorical=False, eval_metric=None, feature_types=None,\n",
       "             gamma=0.09, grow_policy=None, importance_type=None,\n",
       "             interaction_constraints=None, learning_rate=0.08, max_bin=None,\n",
       "             max_cat_threshold=None, max_cat_to_onehot=None,\n",
       "             max_delta_step=None, max_depth=None, max_leaves=None,\n",
       "             min_child_weight=None, missing=nan, monotone_constraints=None,\n",
       "             multi_strategy=None, n_estimators=50, n_jobs=None,\n",
       "             num_parallel_tree=None, random_state=None, ...)</pre></div></div></div></div></div></div></div></div></div></div>"
      ],
      "text/plain": [
       "GridSearchCV(cv=10,\n",
       "             estimator=XGBRegressor(base_score=None, booster=None,\n",
       "                                    callbacks=None, colsample_bylevel=None,\n",
       "                                    colsample_bynode=None,\n",
       "                                    colsample_bytree=None, device=None,\n",
       "                                    early_stopping_rounds=None,\n",
       "                                    enable_categorical=False, eval_metric=None,\n",
       "                                    feature_types=None, gamma=0.09,\n",
       "                                    grow_policy=None, importance_type=None,\n",
       "                                    interaction_constraints=None,\n",
       "                                    learning_rate=0.08,...\n",
       "                                    monotone_constraints=None,\n",
       "                                    multi_strategy=None, n_estimators=50,\n",
       "                                    n_jobs=None, num_parallel_tree=None,\n",
       "                                    random_state=None, ...),\n",
       "             n_jobs=-1,\n",
       "             param_grid={'colsample_bytree': [0.6, 0.8, 1.0],\n",
       "                         'learning_rate': [0.01, 0.05, 0.1, 0.2],\n",
       "                         'max_depth': [3, 5, 7, 10],\n",
       "                         'min_child_weight': [1, 3, 5],\n",
       "                         'n_estimators': [100, 200, 500],\n",
       "                         'subsample': [0.6, 0.8, 1.0]},\n",
       "             scoring='neg_mean_squared_error', verbose=2)"
      ]
     },
     "execution_count": 498,
     "metadata": {},
     "output_type": "execute_result"
    }
   ],
   "source": [
    "grid.fit(X_train,Y_train)"
   ]
  },
  {
   "cell_type": "code",
   "execution_count": 499,
   "id": "31c4afd2-6b06-4eb6-bded-e701c01b0002",
   "metadata": {},
   "outputs": [
    {
     "data": {
      "text/plain": [
       "{'colsample_bytree': 1.0,\n",
       " 'learning_rate': 0.01,\n",
       " 'max_depth': 3,\n",
       " 'min_child_weight': 5,\n",
       " 'n_estimators': 200,\n",
       " 'subsample': 1.0}"
      ]
     },
     "execution_count": 499,
     "metadata": {},
     "output_type": "execute_result"
    }
   ],
   "source": [
    "best_params = grid.best_params_\n",
    "best_params"
   ]
  },
  {
   "cell_type": "code",
   "execution_count": 500,
   "id": "c175f5af-3001-4c22-88d9-603f22c0af1d",
   "metadata": {},
   "outputs": [],
   "source": [
    "model=XGBRegressor(colsample_bytree=0.6, learning_rate=0.01, max_depth=7, min_child_weight=1, n_estimators=500, subsample=0.8)"
   ]
  },
  {
   "cell_type": "code",
   "execution_count": 501,
   "id": "3ba3dc97-402c-4ab1-ac58-8a6cc5a7ed4d",
   "metadata": {},
   "outputs": [
    {
     "data": {
      "text/html": [
       "<style>#sk-container-id-13 {color: black;background-color: white;}#sk-container-id-13 pre{padding: 0;}#sk-container-id-13 div.sk-toggleable {background-color: white;}#sk-container-id-13 label.sk-toggleable__label {cursor: pointer;display: block;width: 100%;margin-bottom: 0;padding: 0.3em;box-sizing: border-box;text-align: center;}#sk-container-id-13 label.sk-toggleable__label-arrow:before {content: \"▸\";float: left;margin-right: 0.25em;color: #696969;}#sk-container-id-13 label.sk-toggleable__label-arrow:hover:before {color: black;}#sk-container-id-13 div.sk-estimator:hover label.sk-toggleable__label-arrow:before {color: black;}#sk-container-id-13 div.sk-toggleable__content {max-height: 0;max-width: 0;overflow: hidden;text-align: left;background-color: #f0f8ff;}#sk-container-id-13 div.sk-toggleable__content pre {margin: 0.2em;color: black;border-radius: 0.25em;background-color: #f0f8ff;}#sk-container-id-13 input.sk-toggleable__control:checked~div.sk-toggleable__content {max-height: 200px;max-width: 100%;overflow: auto;}#sk-container-id-13 input.sk-toggleable__control:checked~label.sk-toggleable__label-arrow:before {content: \"▾\";}#sk-container-id-13 div.sk-estimator input.sk-toggleable__control:checked~label.sk-toggleable__label {background-color: #d4ebff;}#sk-container-id-13 div.sk-label input.sk-toggleable__control:checked~label.sk-toggleable__label {background-color: #d4ebff;}#sk-container-id-13 input.sk-hidden--visually {border: 0;clip: rect(1px 1px 1px 1px);clip: rect(1px, 1px, 1px, 1px);height: 1px;margin: -1px;overflow: hidden;padding: 0;position: absolute;width: 1px;}#sk-container-id-13 div.sk-estimator {font-family: monospace;background-color: #f0f8ff;border: 1px dotted black;border-radius: 0.25em;box-sizing: border-box;margin-bottom: 0.5em;}#sk-container-id-13 div.sk-estimator:hover {background-color: #d4ebff;}#sk-container-id-13 div.sk-parallel-item::after {content: \"\";width: 100%;border-bottom: 1px solid gray;flex-grow: 1;}#sk-container-id-13 div.sk-label:hover label.sk-toggleable__label {background-color: #d4ebff;}#sk-container-id-13 div.sk-serial::before {content: \"\";position: absolute;border-left: 1px solid gray;box-sizing: border-box;top: 0;bottom: 0;left: 50%;z-index: 0;}#sk-container-id-13 div.sk-serial {display: flex;flex-direction: column;align-items: center;background-color: white;padding-right: 0.2em;padding-left: 0.2em;position: relative;}#sk-container-id-13 div.sk-item {position: relative;z-index: 1;}#sk-container-id-13 div.sk-parallel {display: flex;align-items: stretch;justify-content: center;background-color: white;position: relative;}#sk-container-id-13 div.sk-item::before, #sk-container-id-13 div.sk-parallel-item::before {content: \"\";position: absolute;border-left: 1px solid gray;box-sizing: border-box;top: 0;bottom: 0;left: 50%;z-index: -1;}#sk-container-id-13 div.sk-parallel-item {display: flex;flex-direction: column;z-index: 1;position: relative;background-color: white;}#sk-container-id-13 div.sk-parallel-item:first-child::after {align-self: flex-end;width: 50%;}#sk-container-id-13 div.sk-parallel-item:last-child::after {align-self: flex-start;width: 50%;}#sk-container-id-13 div.sk-parallel-item:only-child::after {width: 0;}#sk-container-id-13 div.sk-dashed-wrapped {border: 1px dashed gray;margin: 0 0.4em 0.5em 0.4em;box-sizing: border-box;padding-bottom: 0.4em;background-color: white;}#sk-container-id-13 div.sk-label label {font-family: monospace;font-weight: bold;display: inline-block;line-height: 1.2em;}#sk-container-id-13 div.sk-label-container {text-align: center;}#sk-container-id-13 div.sk-container {/* jupyter's `normalize.less` sets `[hidden] { display: none; }` but bootstrap.min.css set `[hidden] { display: none !important; }` so we also need the `!important` here to be able to override the default hidden behavior on the sphinx rendered scikit-learn.org. See: https://github.com/scikit-learn/scikit-learn/issues/21755 */display: inline-block !important;position: relative;}#sk-container-id-13 div.sk-text-repr-fallback {display: none;}</style><div id=\"sk-container-id-13\" class=\"sk-top-container\"><div class=\"sk-text-repr-fallback\"><pre>XGBRegressor(base_score=None, booster=None, callbacks=None,\n",
       "             colsample_bylevel=None, colsample_bynode=None,\n",
       "             colsample_bytree=0.6, device=None, early_stopping_rounds=None,\n",
       "             enable_categorical=False, eval_metric=None, feature_types=None,\n",
       "             gamma=None, grow_policy=None, importance_type=None,\n",
       "             interaction_constraints=None, learning_rate=0.01, max_bin=None,\n",
       "             max_cat_threshold=None, max_cat_to_onehot=None,\n",
       "             max_delta_step=None, max_depth=7, max_leaves=None,\n",
       "             min_child_weight=1, missing=nan, monotone_constraints=None,\n",
       "             multi_strategy=None, n_estimators=500, n_jobs=None,\n",
       "             num_parallel_tree=None, random_state=None, ...)</pre><b>In a Jupyter environment, please rerun this cell to show the HTML representation or trust the notebook. <br />On GitHub, the HTML representation is unable to render, please try loading this page with nbviewer.org.</b></div><div class=\"sk-container\" hidden><div class=\"sk-item\"><div class=\"sk-estimator sk-toggleable\"><input class=\"sk-toggleable__control sk-hidden--visually\" id=\"sk-estimator-id-17\" type=\"checkbox\" checked><label for=\"sk-estimator-id-17\" class=\"sk-toggleable__label sk-toggleable__label-arrow\">XGBRegressor</label><div class=\"sk-toggleable__content\"><pre>XGBRegressor(base_score=None, booster=None, callbacks=None,\n",
       "             colsample_bylevel=None, colsample_bynode=None,\n",
       "             colsample_bytree=0.6, device=None, early_stopping_rounds=None,\n",
       "             enable_categorical=False, eval_metric=None, feature_types=None,\n",
       "             gamma=None, grow_policy=None, importance_type=None,\n",
       "             interaction_constraints=None, learning_rate=0.01, max_bin=None,\n",
       "             max_cat_threshold=None, max_cat_to_onehot=None,\n",
       "             max_delta_step=None, max_depth=7, max_leaves=None,\n",
       "             min_child_weight=1, missing=nan, monotone_constraints=None,\n",
       "             multi_strategy=None, n_estimators=500, n_jobs=None,\n",
       "             num_parallel_tree=None, random_state=None, ...)</pre></div></div></div></div></div>"
      ],
      "text/plain": [
       "XGBRegressor(base_score=None, booster=None, callbacks=None,\n",
       "             colsample_bylevel=None, colsample_bynode=None,\n",
       "             colsample_bytree=0.6, device=None, early_stopping_rounds=None,\n",
       "             enable_categorical=False, eval_metric=None, feature_types=None,\n",
       "             gamma=None, grow_policy=None, importance_type=None,\n",
       "             interaction_constraints=None, learning_rate=0.01, max_bin=None,\n",
       "             max_cat_threshold=None, max_cat_to_onehot=None,\n",
       "             max_delta_step=None, max_depth=7, max_leaves=None,\n",
       "             min_child_weight=1, missing=nan, monotone_constraints=None,\n",
       "             multi_strategy=None, n_estimators=500, n_jobs=None,\n",
       "             num_parallel_tree=None, random_state=None, ...)"
      ]
     },
     "execution_count": 501,
     "metadata": {},
     "output_type": "execute_result"
    }
   ],
   "source": [
    "model.fit(X_train,Y_train)"
   ]
  },
  {
   "cell_type": "code",
   "execution_count": 502,
   "id": "a5cd4753-f8c0-41e6-a5ee-5cd3e98da830",
   "metadata": {},
   "outputs": [],
   "source": [
    "Y_pred=model.predict(X_test)"
   ]
  },
  {
   "cell_type": "code",
   "execution_count": 503,
   "id": "daee7d70-f4aa-4f03-a6a6-a8a43281e359",
   "metadata": {},
   "outputs": [
    {
     "name": "stdout",
     "output_type": "stream",
     "text": [
      "Cross Validation Score : [0.02989946 0.08078362 0.09102518 0.05022549 0.05561361 0.07730885\n",
      " 0.07868738 0.0638058  0.03040886 0.05318343]\n",
      "Average Cross Validation Score : 0.061094168152545335\n",
      "Mean Absolute Error for XgBoost Regressor : 0.7602085338687444\n",
      "Mean Squared Error for XgBoost Regressor : 1.1056251747936445\n",
      "R2 Score for XgBoost Regressor : 0.07476113589386812\n"
     ]
    }
   ],
   "source": [
    "model_accuracy(X_train,Y_train,Y_test,Y_pred,model,\"XgBoost Regressor\")"
   ]
  },
  {
   "cell_type": "markdown",
   "id": "41c20cd3-7bcf-4131-9a6e-4b4259786866",
   "metadata": {},
   "source": [
    "### We see that after Hyper Parameter tuning R2 score improves slightly. Final R2 Score is 0.074"
   ]
  },
  {
   "cell_type": "code",
   "execution_count": null,
   "id": "9c2abaf2-a971-45aa-a678-8e44fbddaa3c",
   "metadata": {},
   "outputs": [],
   "source": []
  }
 ],
 "metadata": {
  "kernelspec": {
   "display_name": "Python 3 (ipykernel)",
   "language": "python",
   "name": "python3"
  },
  "language_info": {
   "codemirror_mode": {
    "name": "ipython",
    "version": 3
   },
   "file_extension": ".py",
   "mimetype": "text/x-python",
   "name": "python",
   "nbconvert_exporter": "python",
   "pygments_lexer": "ipython3",
   "version": "3.11.7"
  }
 },
 "nbformat": 4,
 "nbformat_minor": 5
}
